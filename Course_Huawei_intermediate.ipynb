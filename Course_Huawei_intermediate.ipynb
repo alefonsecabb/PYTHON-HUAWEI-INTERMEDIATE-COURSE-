{
  "nbformat": 4,
  "nbformat_minor": 0,
  "metadata": {
    "colab": {
      "provenance": [],
      "authorship_tag": "ABX9TyPbcMHecilvctnNKQwDlm41",
      "include_colab_link": true
    },
    "kernelspec": {
      "name": "python3",
      "display_name": "Python 3"
    },
    "language_info": {
      "name": "python"
    }
  },
  "cells": [
    {
      "cell_type": "markdown",
      "metadata": {
        "id": "view-in-github",
        "colab_type": "text"
      },
      "source": [
        "<a href=\"https://colab.research.google.com/github/alefonsecabb/PYTHON-HUAWEI-INTERMEDIATE-COURSE-/blob/main/Course_Huawei_intermediate.ipynb\" target=\"_parent\"><img src=\"https://colab.research.google.com/assets/colab-badge.svg\" alt=\"Open In Colab\"/></a>"
      ]
    },
    {
      "cell_type": "markdown",
      "source": [
        "# CONDITION"
      ],
      "metadata": {
        "id": "J1Z1EmdYXkwS"
      }
    },
    {
      "cell_type": "code",
      "execution_count": 1,
      "metadata": {
        "colab": {
          "base_uri": "https://localhost:8080/"
        },
        "id": "-F5j__KiXeR_",
        "outputId": "5c499899-c62d-463d-fb00-fb30a85a4d37"
      },
      "outputs": [
        {
          "output_type": "stream",
          "name": "stdout",
          "text": [
            "Type a number: 2\n",
            "You typed number 2\n",
            "Type a number: 1\n",
            "You typed number 1\n",
            "Type a number: 3\n",
            "You typed number 3\n",
            "Type a number: 5\n",
            "You typed another thing\n",
            "Type a number: 0\n",
            "You typed another thing\n"
          ]
        }
      ],
      "source": [
        "# MATCH CASE\n",
        "\n",
        "n = -1\n",
        "while n != 0:\n",
        "  n = int(input('Type a number: '))\n",
        "  match n:\n",
        "    case 1:\n",
        "      print('You typed number 1')\n",
        "    case 2:\n",
        "      print('You typed number 2')\n",
        "    case 3:\n",
        "      print('You typed number 3')\n",
        "    case _:\n",
        "      print('You typed another thing')"
      ]
    },
    {
      "cell_type": "markdown",
      "source": [
        "# if inline - Serve para colocar tudo numa linha desde que haja somente um critério na condição"
      ],
      "metadata": {
        "id": "1XRVkIzlablk"
      }
    },
    {
      "cell_type": "code",
      "source": [
        "x = 10\n",
        "y = 9\n",
        "\n",
        "print(x) if x >= y else print(y)"
      ],
      "metadata": {
        "colab": {
          "base_uri": "https://localhost:8080/"
        },
        "id": "ce_Gdu44Zi3I",
        "outputId": "ef588600-61b6-40b9-e495-0cdb5fc69980"
      },
      "execution_count": null,
      "outputs": [
        {
          "output_type": "stream",
          "name": "stdout",
          "text": [
            "10\n"
          ]
        }
      ]
    },
    {
      "cell_type": "markdown",
      "source": [
        "# Usar o if inline sem o else, colocando ZERO para que o programa não execute nada no else"
      ],
      "metadata": {
        "id": "XPVPIwRQb_rm"
      }
    },
    {
      "cell_type": "code",
      "source": [
        "codigos = [103, 117, 121, 135, 161, 189, 200, 204, 216]\n",
        "lista = []\n",
        "print('Alternativa com if clássico')\n",
        "\n",
        "for codigo in codigos:\n",
        "  if 120 <= codigo <= 200:\n",
        "    lista.append(codigo)\n",
        "\n",
        "# agora usando o if inline sem o else\n",
        "lista = []\n",
        "print('Alternativa com if inline')\n",
        "for codigo in codigos:\n",
        "  lista.append(codigo) if 120 <= codigo <=200 else 0\n",
        "\n",
        "print(f' códigos filtrados ==> {lista}')"
      ],
      "metadata": {
        "colab": {
          "base_uri": "https://localhost:8080/"
        },
        "id": "u0WuBVF8agL0",
        "outputId": "12bcf8a5-1b4f-411a-fb43-07aa2b61f699"
      },
      "execution_count": null,
      "outputs": [
        {
          "output_type": "stream",
          "name": "stdout",
          "text": [
            "Alternativa com if clássico\n",
            "Alternativa com if inline\n",
            " códigos filtrados ==> [121, 135, 161, 189, 200]\n"
          ]
        }
      ]
    },
    {
      "cell_type": "code",
      "source": [
        "# mais usos para o if inline\n",
        "\n",
        "x = int(input('Digite um número inteiro: '))\n",
        "paridade = 'par' if x % 2 == 0 else 'ímpar'\n",
        "print(f'O número {x} é {paridade}')"
      ],
      "metadata": {
        "colab": {
          "base_uri": "https://localhost:8080/"
        },
        "id": "nMZk5AZUagHn",
        "outputId": "bb9180f5-c95d-4169-970b-f629403a7ea8"
      },
      "execution_count": null,
      "outputs": [
        {
          "output_type": "stream",
          "name": "stdout",
          "text": [
            "Digite um número inteiro: 1\n",
            "O número 1 é ímpar\n"
          ]
        }
      ]
    },
    {
      "cell_type": "code",
      "source": [
        "a, b = 12, 5\n",
        "if a + b:\n",
        "    print('True')\n",
        "else:\n",
        "  print('False')"
      ],
      "metadata": {
        "colab": {
          "base_uri": "https://localhost:8080/"
        },
        "id": "FLhKb8j2agD9",
        "outputId": "c19c4f3a-6ef2-43bf-a642-832238f703d9"
      },
      "execution_count": null,
      "outputs": [
        {
          "output_type": "stream",
          "name": "stdout",
          "text": [
            "True\n"
          ]
        }
      ]
    },
    {
      "cell_type": "code",
      "source": [
        "# como não existe x, a e y na str \"123\", o programa só executa\n",
        "s = 123\n",
        "for d in str(s):\n",
        "    match d:\n",
        "        case 3: print('x', end='')\n",
        "        case 2: print('a', end='')\n",
        "        case 1: print('y', end='')\n",
        "        case _: print('z', end='')"
      ],
      "metadata": {
        "colab": {
          "base_uri": "https://localhost:8080/"
        },
        "id": "9EgcZ4qiagAV",
        "outputId": "be7adc81-4bf5-4b5f-8804-fa322d18ba2c"
      },
      "execution_count": null,
      "outputs": [
        {
          "output_type": "stream",
          "name": "stdout",
          "text": [
            "zzz"
          ]
        }
      ]
    },
    {
      "cell_type": "markdown",
      "source": [
        "# Criação de conjuntos - classe 'set'"
      ],
      "metadata": {
        "id": "0Nq0zKf3kpXp"
      }
    },
    {
      "cell_type": "code",
      "source": [
        "c1 = {1, 2, 3, 4, 5}\n",
        "c2 = {3, 4, 5, 6, 7}\n",
        "#vê o tipo\n",
        "print(type(c1))"
      ],
      "metadata": {
        "colab": {
          "base_uri": "https://localhost:8080/"
        },
        "id": "jhvw_XPDaf8r",
        "outputId": "547de893-b21b-47a9-8dd4-e90dc19a3387"
      },
      "execution_count": null,
      "outputs": [
        {
          "output_type": "stream",
          "name": "stdout",
          "text": [
            "<class 'set'>\n"
          ]
        }
      ]
    },
    {
      "cell_type": "code",
      "source": [
        "len(c1)"
      ],
      "metadata": {
        "colab": {
          "base_uri": "https://localhost:8080/"
        },
        "id": "ZLWbYicWaf5M",
        "outputId": "746a49f2-1ce4-44ed-ce5b-4d45e61446bf"
      },
      "execution_count": null,
      "outputs": [
        {
          "output_type": "execute_result",
          "data": {
            "text/plain": [
              "5"
            ]
          },
          "metadata": {},
          "execution_count": 10
        }
      ]
    },
    {
      "cell_type": "code",
      "source": [
        "print(c1)"
      ],
      "metadata": {
        "colab": {
          "base_uri": "https://localhost:8080/"
        },
        "id": "UxILPSM5af1r",
        "outputId": "c01782c2-de3e-4ba1-9ca8-e7ce20412712"
      },
      "execution_count": null,
      "outputs": [
        {
          "output_type": "stream",
          "name": "stdout",
          "text": [
            "{1, 2, 3, 4, 5}\n"
          ]
        }
      ]
    },
    {
      "cell_type": "code",
      "source": [
        "for i in c1:\n",
        "  print(i, end= ' ')"
      ],
      "metadata": {
        "colab": {
          "base_uri": "https://localhost:8080/"
        },
        "id": "A4q24E9Zafx0",
        "outputId": "492f2426-3792-4b24-925e-68e8f2996987"
      },
      "execution_count": null,
      "outputs": [
        {
          "output_type": "stream",
          "name": "stdout",
          "text": [
            "1 2 3 4 5 "
          ]
        }
      ]
    },
    {
      "cell_type": "code",
      "source": [
        "# IMPORTANTE ! Nos conjuntos não pode colocar elementos repetidos, pois ele IGNORA\n",
        "\n",
        "c1 = {1, 2, 3, 4, 5, 1, 2, 3, 4, 5}\n",
        "print(c1)"
      ],
      "metadata": {
        "colab": {
          "base_uri": "https://localhost:8080/"
        },
        "id": "T114idvuafuW",
        "outputId": "9bdfc569-7394-45d7-fa7c-7f18de3291f9"
      },
      "execution_count": null,
      "outputs": [
        {
          "output_type": "stream",
          "name": "stdout",
          "text": [
            "{1, 2, 3, 4, 5}\n"
          ]
        }
      ]
    },
    {
      "cell_type": "code",
      "source": [
        "# criar um conjunto vazio com o construtor 'set'\n",
        "c1 = set()\n",
        "type(c1)"
      ],
      "metadata": {
        "colab": {
          "base_uri": "https://localhost:8080/"
        },
        "id": "tEQ0xwQMafqu",
        "outputId": "a5c92848-e5d5-4411-cbef-b0f483fc912b"
      },
      "execution_count": null,
      "outputs": [
        {
          "output_type": "execute_result",
          "data": {
            "text/plain": [
              "set"
            ]
          },
          "metadata": {},
          "execution_count": 14
        }
      ]
    },
    {
      "cell_type": "code",
      "source": [
        "print(c1)"
      ],
      "metadata": {
        "colab": {
          "base_uri": "https://localhost:8080/"
        },
        "id": "kjVxnhJNafm0",
        "outputId": "c9c61dcc-87fa-4105-b1ee-c883ce77bd1d"
      },
      "execution_count": null,
      "outputs": [
        {
          "output_type": "stream",
          "name": "stdout",
          "text": [
            "set()\n"
          ]
        }
      ]
    },
    {
      "cell_type": "code",
      "source": [
        "len(c1)"
      ],
      "metadata": {
        "colab": {
          "base_uri": "https://localhost:8080/"
        },
        "id": "LU2SYG8gafjH",
        "outputId": "53da449c-73ee-459b-efb5-724165637058"
      },
      "execution_count": null,
      "outputs": [
        {
          "output_type": "execute_result",
          "data": {
            "text/plain": [
              "0"
            ]
          },
          "metadata": {},
          "execution_count": 16
        }
      ]
    },
    {
      "cell_type": "code",
      "source": [
        "# CUIDADO ! PARA CRIAR UM CONJUNTO VAZIO NÃO USE {}, POIS ISSO CRIA UM DICIONÁRIO !!\n",
        "# USE SEMPRE A FUNÇÃO set(), ou defina os elementos dentro do conjunto usando chaves. Se estiver vazio não funciona.\n",
        "\n",
        "c1 = {}\n",
        "type(c1)"
      ],
      "metadata": {
        "colab": {
          "base_uri": "https://localhost:8080/"
        },
        "id": "lTGzIrtQaffG",
        "outputId": "c15711a6-bbf8-49b7-c468-9d6938e61f03"
      },
      "execution_count": null,
      "outputs": [
        {
          "output_type": "execute_result",
          "data": {
            "text/plain": [
              "dict"
            ]
          },
          "metadata": {},
          "execution_count": 17
        }
      ]
    },
    {
      "cell_type": "code",
      "source": [
        "# O CONSTRUTOR SET ACEITA APENAS 1 ARGUMENTO, SE QUISER COLOCAR MAIS ELEMENTOS É NECESSÁRIO COLOCAR UMA TUPLA OU UMA LISTA\n",
        "# DENTRO DO CONJUNTO\n",
        "set([1, 2, 3, 4, 5])\n",
        "set((1, 2, 3, 4, 5))"
      ],
      "metadata": {
        "colab": {
          "base_uri": "https://localhost:8080/"
        },
        "id": "kYGnxmhnafbb",
        "outputId": "da01513a-d347-4c78-99c5-d516dee06b4f"
      },
      "execution_count": null,
      "outputs": [
        {
          "output_type": "execute_result",
          "data": {
            "text/plain": [
              "{1, 2, 3, 4, 5}"
            ]
          },
          "metadata": {},
          "execution_count": 18
        }
      ]
    },
    {
      "cell_type": "code",
      "source": [
        "# veja 5 formas de se criar um conjunto:\n",
        "\n",
        "c1 = {1, 2, 3, 4, 5} # direto definindo os elementos\n",
        "c2 = set([1, 2, 3, 4, 5]) # passando uma lista\n",
        "c3 = set((1, 2, 3, 4, 5)) # passando uma tupla\n",
        "c4 = set(range(1, 6)) # passando um range\n",
        "c5 = set() # passando um conjunto vazio\n",
        "print(c1, c2, c3, c4, c5)"
      ],
      "metadata": {
        "colab": {
          "base_uri": "https://localhost:8080/"
        },
        "id": "PELiNw-ln2vv",
        "outputId": "119dcc0f-81f0-46f1-a837-a6670dac3a2d"
      },
      "execution_count": null,
      "outputs": [
        {
          "output_type": "stream",
          "name": "stdout",
          "text": [
            "{1, 2, 3, 4, 5} {1, 2, 3, 4, 5} {1, 2, 3, 4, 5} {1, 2, 3, 4, 5} set()\n"
          ]
        }
      ]
    },
    {
      "cell_type": "code",
      "source": [
        "# criando com uma string, atente que não se repetem os caracteres\n",
        "frutas = set('abacaxi é amarelo e verde')\n",
        "type(frutas)"
      ],
      "metadata": {
        "colab": {
          "base_uri": "https://localhost:8080/"
        },
        "id": "91kA6tIfn9ML",
        "outputId": "f8a8dcca-471b-4459-9042-dbaf385268ae"
      },
      "execution_count": null,
      "outputs": [
        {
          "output_type": "execute_result",
          "data": {
            "text/plain": [
              "set"
            ]
          },
          "metadata": {},
          "execution_count": 20
        }
      ]
    },
    {
      "cell_type": "code",
      "source": [
        "print(frutas)"
      ],
      "metadata": {
        "colab": {
          "base_uri": "https://localhost:8080/"
        },
        "id": "xFzXxvVOq3sW",
        "outputId": "a6106b8e-da24-4b2e-94fb-f7087255fdeb"
      },
      "execution_count": null,
      "outputs": [
        {
          "output_type": "stream",
          "name": "stdout",
          "text": [
            "{'é', 'l', 'c', 'r', 'i', 'b', 'e', 'd', 'v', 'm', 'o', 'x', 'a', ' '}\n"
          ]
        }
      ]
    },
    {
      "cell_type": "markdown",
      "source": [
        "# HASH - cria um valor resultante de um conteúdo, e mesmo que seja criada outra variável porém com o mesmo conteúdo, o valor resultante não muda, veja um exemplo:\n",
        "\n",
        "O HASH define elementos IMUTÁVEIS"
      ],
      "metadata": {
        "id": "6rluYm3g7Owu"
      }
    },
    {
      "cell_type": "code",
      "source": [
        "s1 = 'abcd'\n",
        "hash(s1)"
      ],
      "metadata": {
        "id": "FJAyLKd858cZ",
        "colab": {
          "base_uri": "https://localhost:8080/"
        },
        "outputId": "0d530fc2-b5ac-4d4c-a507-6b1f77f68592"
      },
      "execution_count": null,
      "outputs": [
        {
          "output_type": "execute_result",
          "data": {
            "text/plain": [
              "1006755574889361286"
            ]
          },
          "metadata": {},
          "execution_count": 22
        }
      ]
    },
    {
      "cell_type": "code",
      "source": [
        "s2 = 'abcd'\n",
        "hash(s2)"
      ],
      "metadata": {
        "colab": {
          "base_uri": "https://localhost:8080/"
        },
        "id": "8GhcYHbi7Ygw",
        "outputId": "d040edca-cab7-4c28-a6f4-53896b9d06ca"
      },
      "execution_count": null,
      "outputs": [
        {
          "output_type": "execute_result",
          "data": {
            "text/plain": [
              "1006755574889361286"
            ]
          },
          "metadata": {},
          "execution_count": 23
        }
      ]
    },
    {
      "cell_type": "code",
      "source": [
        "# criando conjunto vazio\n",
        "\n",
        "c1 = set()\n",
        "type(c1)"
      ],
      "metadata": {
        "colab": {
          "base_uri": "https://localhost:8080/"
        },
        "id": "hP16B2SL726G",
        "outputId": "ca069140-6dca-4379-c2d4-c7305320341d"
      },
      "execution_count": null,
      "outputs": [
        {
          "output_type": "execute_result",
          "data": {
            "text/plain": [
              "set"
            ]
          },
          "metadata": {},
          "execution_count": 24
        }
      ]
    },
    {
      "cell_type": "code",
      "source": [
        "len(c1)"
      ],
      "metadata": {
        "colab": {
          "base_uri": "https://localhost:8080/"
        },
        "id": "YRCAGyic-Bsd",
        "outputId": "b4b7ac5b-584b-4e07-b8fc-f26f30a039e3"
      },
      "execution_count": null,
      "outputs": [
        {
          "output_type": "execute_result",
          "data": {
            "text/plain": [
              "0"
            ]
          },
          "metadata": {},
          "execution_count": 25
        }
      ]
    },
    {
      "cell_type": "code",
      "source": [
        "# para adicionar elemento num conjunto usa-se o \"add\", que é o mesmo que o append em listas\n",
        "# não há uma ordem específica dos elementos, quando adicionado com add, esse elemento fica em qualquer lugar no conjunto"
      ],
      "metadata": {
        "id": "1KUtLQJP-DOE"
      },
      "execution_count": null,
      "outputs": []
    },
    {
      "cell_type": "code",
      "source": [
        "c1.add(1)\n",
        "c1.add(2)\n",
        "c1.add(3)\n",
        "c1.add(4)\n",
        "c1.add(5)"
      ],
      "metadata": {
        "id": "HYxL_07T-kWH"
      },
      "execution_count": null,
      "outputs": []
    },
    {
      "cell_type": "code",
      "source": [
        "len(c1)"
      ],
      "metadata": {
        "colab": {
          "base_uri": "https://localhost:8080/"
        },
        "id": "MQhJAKy8-8l5",
        "outputId": "b7a05224-6990-46f3-ad10-a6b4cae94b67"
      },
      "execution_count": null,
      "outputs": [
        {
          "output_type": "execute_result",
          "data": {
            "text/plain": [
              "5"
            ]
          },
          "metadata": {},
          "execution_count": 28
        }
      ]
    },
    {
      "cell_type": "code",
      "source": [
        "c1"
      ],
      "metadata": {
        "colab": {
          "base_uri": "https://localhost:8080/"
        },
        "id": "_7rfCgHe-96v",
        "outputId": "54bcefb7-1ed6-4224-dfce-8edfaede78d9"
      },
      "execution_count": null,
      "outputs": [
        {
          "output_type": "execute_result",
          "data": {
            "text/plain": [
              "{1, 2, 3, 4, 5}"
            ]
          },
          "metadata": {},
          "execution_count": 29
        }
      ]
    },
    {
      "cell_type": "code",
      "source": [
        "c1.add(61)"
      ],
      "metadata": {
        "id": "mdcgH7B0-_n3"
      },
      "execution_count": null,
      "outputs": []
    },
    {
      "cell_type": "code",
      "source": [
        "c1 # na verdade não adiciona em ordem crescente"
      ],
      "metadata": {
        "colab": {
          "base_uri": "https://localhost:8080/"
        },
        "id": "PRcZcMXi_DLn",
        "outputId": "5c073d5c-72aa-42f3-f2bb-c78b5a98b381"
      },
      "execution_count": null,
      "outputs": [
        {
          "output_type": "execute_result",
          "data": {
            "text/plain": [
              "{1, 2, 3, 4, 5, 61}"
            ]
          },
          "metadata": {},
          "execution_count": 31
        }
      ]
    },
    {
      "cell_type": "code",
      "source": [
        "c1.add('blabla')"
      ],
      "metadata": {
        "id": "Uiw3c-P-_GwZ"
      },
      "execution_count": null,
      "outputs": []
    },
    {
      "cell_type": "code",
      "source": [
        "c1\n"
      ],
      "metadata": {
        "colab": {
          "base_uri": "https://localhost:8080/"
        },
        "id": "PMg8hB7mAx3I",
        "outputId": "12bddfce-7d85-4d1b-df49-56f61e6e639a"
      },
      "execution_count": null,
      "outputs": [
        {
          "output_type": "execute_result",
          "data": {
            "text/plain": [
              "{1, 2, 3, 4, 5, 61, 'blabla'}"
            ]
          },
          "metadata": {},
          "execution_count": 33
        }
      ]
    },
    {
      "cell_type": "code",
      "source": [
        "# limpar o conjunto\n",
        "c1.clear()"
      ],
      "metadata": {
        "id": "80Vtc6YrAyf9"
      },
      "execution_count": null,
      "outputs": []
    },
    {
      "cell_type": "code",
      "source": [
        "c1"
      ],
      "metadata": {
        "colab": {
          "base_uri": "https://localhost:8080/"
        },
        "id": "LF6xt1AiA90_",
        "outputId": "aa179c78-3619-4bb5-f15b-87a4cfa183df"
      },
      "execution_count": null,
      "outputs": [
        {
          "output_type": "execute_result",
          "data": {
            "text/plain": [
              "set()"
            ]
          },
          "metadata": {},
          "execution_count": 35
        }
      ]
    },
    {
      "cell_type": "code",
      "source": [
        "# cria um conjunto aletório de exemplo\n",
        "\n",
        "c = {26, 72, 83, 47, 15, 558}"
      ],
      "metadata": {
        "id": "FJbrfkrDBhMe"
      },
      "execution_count": null,
      "outputs": []
    },
    {
      "cell_type": "code",
      "source": [
        "c"
      ],
      "metadata": {
        "colab": {
          "base_uri": "https://localhost:8080/"
        },
        "id": "QdowqexEBzRQ",
        "outputId": "8846a81a-e7e5-4d73-f5b4-0a09ae3933ee"
      },
      "execution_count": null,
      "outputs": [
        {
          "output_type": "execute_result",
          "data": {
            "text/plain": [
              "{15, 26, 47, 72, 83, 558}"
            ]
          },
          "metadata": {},
          "execution_count": 37
        }
      ]
    },
    {
      "cell_type": "code",
      "source": [
        "# fazer uma cópia de um conjunto\n",
        "\n",
        "c1 = c.copy()"
      ],
      "metadata": {
        "id": "YA7tp1_fB0DI"
      },
      "execution_count": null,
      "outputs": []
    },
    {
      "cell_type": "code",
      "source": [
        "c1"
      ],
      "metadata": {
        "colab": {
          "base_uri": "https://localhost:8080/"
        },
        "id": "6Ed30SuVB-jb",
        "outputId": "a0f88351-afb9-4a88-c03e-0a4bd0bf71ca"
      },
      "execution_count": null,
      "outputs": [
        {
          "output_type": "execute_result",
          "data": {
            "text/plain": [
              "{15, 26, 47, 72, 83, 558}"
            ]
          },
          "metadata": {},
          "execution_count": 39
        }
      ]
    },
    {
      "cell_type": "code",
      "source": [
        "# achar diferenças entre conjuntos\n",
        "c1 = {1, 2, 3, 4, 5}\n",
        "c2 = {3, 4, 5, 6, 7}\n",
        "c1.difference(c2)"
      ],
      "metadata": {
        "colab": {
          "base_uri": "https://localhost:8080/"
        },
        "id": "eKN4GVGYB__j",
        "outputId": "e9900797-b8df-4dca-fb43-eed977ab2a82"
      },
      "execution_count": null,
      "outputs": [
        {
          "output_type": "execute_result",
          "data": {
            "text/plain": [
              "{1, 2}"
            ]
          },
          "metadata": {},
          "execution_count": 40
        }
      ]
    },
    {
      "cell_type": "code",
      "source": [
        "c2.difference(c1)"
      ],
      "metadata": {
        "colab": {
          "base_uri": "https://localhost:8080/"
        },
        "id": "YvqWbo9yCoQi",
        "outputId": "34a4214f-9d7e-4894-8dda-af2882018731"
      },
      "execution_count": null,
      "outputs": [
        {
          "output_type": "execute_result",
          "data": {
            "text/plain": [
              "{6, 7}"
            ]
          },
          "metadata": {},
          "execution_count": 41
        }
      ]
    },
    {
      "cell_type": "code",
      "source": [
        "# remover com discard\n",
        "c1.discard(3)"
      ],
      "metadata": {
        "id": "lZBn05nXC3it"
      },
      "execution_count": null,
      "outputs": []
    },
    {
      "cell_type": "code",
      "source": [
        "c1"
      ],
      "metadata": {
        "colab": {
          "base_uri": "https://localhost:8080/"
        },
        "id": "DYDYaPw8DaIr",
        "outputId": "28ac1b86-0f81-4cf5-c86d-b3a5beb01f64"
      },
      "execution_count": null,
      "outputs": [
        {
          "output_type": "execute_result",
          "data": {
            "text/plain": [
              "{1, 2, 4, 5}"
            ]
          },
          "metadata": {},
          "execution_count": 43
        }
      ]
    },
    {
      "cell_type": "code",
      "source": [
        "c1"
      ],
      "metadata": {
        "colab": {
          "base_uri": "https://localhost:8080/"
        },
        "id": "-uTbV6oBDa0L",
        "outputId": "4e4caf25-4e62-4836-9a14-25c0e2983c72"
      },
      "execution_count": null,
      "outputs": [
        {
          "output_type": "execute_result",
          "data": {
            "text/plain": [
              "{1, 2, 4, 5}"
            ]
          },
          "metadata": {},
          "execution_count": 44
        }
      ]
    },
    {
      "cell_type": "code",
      "source": [
        "c2"
      ],
      "metadata": {
        "colab": {
          "base_uri": "https://localhost:8080/"
        },
        "id": "RB8NSO_JDx0P",
        "outputId": "222286a8-19a4-484f-a303-b3f3afa5ee5a"
      },
      "execution_count": null,
      "outputs": [
        {
          "output_type": "execute_result",
          "data": {
            "text/plain": [
              "{3, 4, 5, 6, 7}"
            ]
          },
          "metadata": {},
          "execution_count": 45
        }
      ]
    },
    {
      "cell_type": "code",
      "source": [
        "# ver o que está em comum nos conjuntos\n",
        "c1.intersection(c2)"
      ],
      "metadata": {
        "colab": {
          "base_uri": "https://localhost:8080/"
        },
        "id": "28vuyBjFDylP",
        "outputId": "0409f5ae-6f29-45c9-fe3b-61b6406214f6"
      },
      "execution_count": null,
      "outputs": [
        {
          "output_type": "execute_result",
          "data": {
            "text/plain": [
              "{4, 5}"
            ]
          },
          "metadata": {},
          "execution_count": 46
        }
      ]
    },
    {
      "cell_type": "code",
      "source": [
        "# usando o isdisjoint, que diz se o conjunto possui algum elemento igual ao outro. boolean, vai dar True se TODOS os elementos forma diferentes\n",
        "\n",
        "c1.isdisjoint(c2)"
      ],
      "metadata": {
        "colab": {
          "base_uri": "https://localhost:8080/"
        },
        "id": "y7WdbbW0D1rn",
        "outputId": "d1aef6ee-591e-41f3-cc69-24313a0d7284"
      },
      "execution_count": null,
      "outputs": [
        {
          "output_type": "execute_result",
          "data": {
            "text/plain": [
              "False"
            ]
          },
          "metadata": {},
          "execution_count": 47
        }
      ]
    },
    {
      "cell_type": "code",
      "source": [
        "c1"
      ],
      "metadata": {
        "colab": {
          "base_uri": "https://localhost:8080/"
        },
        "id": "oWyOKJ22Ee5M",
        "outputId": "1c256f06-35f3-492e-d34f-935870e42497"
      },
      "execution_count": null,
      "outputs": [
        {
          "output_type": "execute_result",
          "data": {
            "text/plain": [
              "{1, 2, 4, 5}"
            ]
          },
          "metadata": {},
          "execution_count": 48
        }
      ]
    },
    {
      "cell_type": "code",
      "source": [
        "c2"
      ],
      "metadata": {
        "colab": {
          "base_uri": "https://localhost:8080/"
        },
        "id": "goYLoEF_Eqy-",
        "outputId": "adbce049-aa94-4ed2-b0e9-c1118186107d"
      },
      "execution_count": null,
      "outputs": [
        {
          "output_type": "execute_result",
          "data": {
            "text/plain": [
              "{3, 4, 5, 6, 7}"
            ]
          },
          "metadata": {},
          "execution_count": 49
        }
      ]
    },
    {
      "cell_type": "code",
      "source": [
        "c2.discard(4)"
      ],
      "metadata": {
        "id": "1LPRphwmEspG"
      },
      "execution_count": null,
      "outputs": []
    },
    {
      "cell_type": "code",
      "source": [
        "c2.discard(5)"
      ],
      "metadata": {
        "id": "3d_fNapzE13P"
      },
      "execution_count": null,
      "outputs": []
    },
    {
      "cell_type": "code",
      "source": [
        "# removi o 4 e o 5, ficando todos os elementos diferentes entre c1 e c2, agora a resposta é True\n",
        "c1.isdisjoint(c2)"
      ],
      "metadata": {
        "colab": {
          "base_uri": "https://localhost:8080/"
        },
        "id": "ZaEjdLxdE4BO",
        "outputId": "bc809812-c75f-4e21-cd30-3d8b9f7335e3"
      },
      "execution_count": null,
      "outputs": [
        {
          "output_type": "execute_result",
          "data": {
            "text/plain": [
              "True"
            ]
          },
          "metadata": {},
          "execution_count": 52
        }
      ]
    },
    {
      "cell_type": "code",
      "source": [
        "# usando o issubset pra saber se o outro conjunto é um subconjunto, ou seja, se ele ESTÁ CONTIDO no outro conjunto\n",
        "c1.issubset(c2)"
      ],
      "metadata": {
        "colab": {
          "base_uri": "https://localhost:8080/"
        },
        "id": "bVJuMhgZFLDm",
        "outputId": "5761f3c5-ae33-4883-88d7-0c5812676649"
      },
      "execution_count": null,
      "outputs": [
        {
          "output_type": "execute_result",
          "data": {
            "text/plain": [
              "False"
            ]
          },
          "metadata": {},
          "execution_count": 53
        }
      ]
    },
    {
      "cell_type": "code",
      "source": [
        "c2.add(4)\n",
        "c2.add(5)\n",
        "c2.add(1)\n",
        "c2.add(2)"
      ],
      "metadata": {
        "id": "pz0604VHFK-E"
      },
      "execution_count": null,
      "outputs": []
    },
    {
      "cell_type": "code",
      "source": [
        "c1.issubset(c2)"
      ],
      "metadata": {
        "colab": {
          "base_uri": "https://localhost:8080/"
        },
        "id": "biTBcS6cFK41",
        "outputId": "534542ff-1dd9-4557-e301-2ac1b17a3368"
      },
      "execution_count": null,
      "outputs": [
        {
          "output_type": "execute_result",
          "data": {
            "text/plain": [
              "True"
            ]
          },
          "metadata": {},
          "execution_count": 55
        }
      ]
    },
    {
      "cell_type": "code",
      "source": [
        "c1"
      ],
      "metadata": {
        "colab": {
          "base_uri": "https://localhost:8080/"
        },
        "id": "zSXGfEoTFKzl",
        "outputId": "600e5865-3630-4bf1-c3f2-95024ae00ec1"
      },
      "execution_count": null,
      "outputs": [
        {
          "output_type": "execute_result",
          "data": {
            "text/plain": [
              "{1, 2, 4, 5}"
            ]
          },
          "metadata": {},
          "execution_count": 56
        }
      ]
    },
    {
      "cell_type": "code",
      "source": [
        "c2"
      ],
      "metadata": {
        "colab": {
          "base_uri": "https://localhost:8080/"
        },
        "id": "oBH3HLWwFKuz",
        "outputId": "64908545-2727-433a-cc21-ff9b1d6683bf"
      },
      "execution_count": null,
      "outputs": [
        {
          "output_type": "execute_result",
          "data": {
            "text/plain": [
              "{1, 2, 3, 4, 5, 6, 7}"
            ]
          },
          "metadata": {},
          "execution_count": 57
        }
      ]
    },
    {
      "cell_type": "code",
      "source": [
        "# usando issuperset para descobrir se os conjunto c1 contém todos os elementos de c2\n",
        "\n",
        "c1.issuperset(c2)"
      ],
      "metadata": {
        "colab": {
          "base_uri": "https://localhost:8080/"
        },
        "id": "mHentjR6FKoO",
        "outputId": "f112df95-ea40-4782-f513-5108eb8cbc14"
      },
      "execution_count": null,
      "outputs": [
        {
          "output_type": "execute_result",
          "data": {
            "text/plain": [
              "False"
            ]
          },
          "metadata": {},
          "execution_count": 58
        }
      ]
    },
    {
      "cell_type": "code",
      "source": [
        "c2.issuperset(c1)"
      ],
      "metadata": {
        "colab": {
          "base_uri": "https://localhost:8080/"
        },
        "id": "bNYN2s1NFKfw",
        "outputId": "ed21e28d-bb25-4309-979f-2df162429c96"
      },
      "execution_count": null,
      "outputs": [
        {
          "output_type": "execute_result",
          "data": {
            "text/plain": [
              "True"
            ]
          },
          "metadata": {},
          "execution_count": 59
        }
      ]
    },
    {
      "cell_type": "code",
      "source": [
        "# usando pop para remover um elemrnto aleatoriamente. É preciso atribuir um objeto\n",
        "\n",
        "a = c2.pop()"
      ],
      "metadata": {
        "id": "NN56JY6kE6o5"
      },
      "execution_count": null,
      "outputs": []
    },
    {
      "cell_type": "code",
      "source": [
        "a"
      ],
      "metadata": {
        "colab": {
          "base_uri": "https://localhost:8080/"
        },
        "id": "8RerN5hAHGMj",
        "outputId": "e4035804-b2bc-49a3-c839-39f0dce2bac9"
      },
      "execution_count": null,
      "outputs": [
        {
          "output_type": "execute_result",
          "data": {
            "text/plain": [
              "1"
            ]
          },
          "metadata": {},
          "execution_count": 61
        }
      ]
    },
    {
      "cell_type": "code",
      "source": [
        "# o remove usa-se quando quer especificar um elemento\n",
        "c2.remove(5)"
      ],
      "metadata": {
        "id": "JIKaLCN_HGyz"
      },
      "execution_count": null,
      "outputs": []
    },
    {
      "cell_type": "code",
      "source": [
        "c2"
      ],
      "metadata": {
        "colab": {
          "base_uri": "https://localhost:8080/"
        },
        "id": "XxjOkCAEHYa-",
        "outputId": "ad70326a-0c12-4e5b-edfa-c5c185be1d98"
      },
      "execution_count": null,
      "outputs": [
        {
          "output_type": "execute_result",
          "data": {
            "text/plain": [
              "{2, 3, 4, 6, 7}"
            ]
          },
          "metadata": {},
          "execution_count": 63
        }
      ]
    },
    {
      "cell_type": "code",
      "source": [
        "# usando o in pra saber se o elemento está ou não num conjunto\n",
        "\n",
        "1 in c2"
      ],
      "metadata": {
        "colab": {
          "base_uri": "https://localhost:8080/"
        },
        "id": "R1sn8OveHepg",
        "outputId": "b1c17fa0-376e-4ca1-b5d8-fb5b6dd25519"
      },
      "execution_count": null,
      "outputs": [
        {
          "output_type": "execute_result",
          "data": {
            "text/plain": [
              "False"
            ]
          },
          "metadata": {},
          "execution_count": 64
        }
      ]
    },
    {
      "cell_type": "code",
      "source": [
        "3 in c2"
      ],
      "metadata": {
        "colab": {
          "base_uri": "https://localhost:8080/"
        },
        "id": "6lAm1KcVIWU_",
        "outputId": "1122287d-66b6-40ae-cf6d-24ee6c6dacf5"
      },
      "execution_count": null,
      "outputs": [
        {
          "output_type": "execute_result",
          "data": {
            "text/plain": [
              "True"
            ]
          },
          "metadata": {},
          "execution_count": 65
        }
      ]
    },
    {
      "cell_type": "code",
      "source": [
        "# unir conjunto com union, sem considerar REPETIDOS !\n",
        "\n",
        "c1.union(c2)"
      ],
      "metadata": {
        "colab": {
          "base_uri": "https://localhost:8080/"
        },
        "id": "bkBwaySsIYHZ",
        "outputId": "da37679c-ca21-4f3d-99d8-0ee3c345efd5"
      },
      "execution_count": null,
      "outputs": [
        {
          "output_type": "execute_result",
          "data": {
            "text/plain": [
              "{1, 2, 3, 4, 5, 6, 7}"
            ]
          },
          "metadata": {},
          "execution_count": 66
        }
      ]
    },
    {
      "cell_type": "code",
      "source": [
        "# symmetric_difference pra encontra a diferença entre a união e a interseção\n",
        "c1.symmetric_difference(c2)"
      ],
      "metadata": {
        "colab": {
          "base_uri": "https://localhost:8080/"
        },
        "id": "jfT_diOkIlwd",
        "outputId": "866617b3-7265-4a38-d8af-1d92e03bf6c0"
      },
      "execution_count": null,
      "outputs": [
        {
          "output_type": "execute_result",
          "data": {
            "text/plain": [
              "{1, 3, 5, 6, 7}"
            ]
          },
          "metadata": {},
          "execution_count": 67
        }
      ]
    },
    {
      "cell_type": "code",
      "source": [
        "# classe set com iterador\n",
        "\n",
        "print(\"Primeira execução\")\n",
        "conjunto = {3.3, 18.6, 34.0, 43.1, 58.7}\n",
        "for elemento in conjunto:\n",
        "    print(elemento, end=' ')"
      ],
      "metadata": {
        "colab": {
          "base_uri": "https://localhost:8080/"
        },
        "id": "YADI8-ckJbyg",
        "outputId": "a5959484-a609-4e65-d1a2-bc7f6521ae9a"
      },
      "execution_count": null,
      "outputs": [
        {
          "output_type": "stream",
          "name": "stdout",
          "text": [
            "Primeira execução\n",
            "34.0 3.3 18.6 58.7 43.1 "
          ]
        }
      ]
    },
    {
      "cell_type": "code",
      "source": [
        "print(\"Segunda execução\") # trocando de lugar aluguns valores do conjnunto\n",
        "conjunto = {18.6, 34.0, 3.3, 58.7, 43.1 }\n",
        "for elemento in conjunto:\n",
        "    print(elemento, end=' ')"
      ],
      "metadata": {
        "colab": {
          "base_uri": "https://localhost:8080/"
        },
        "id": "hILE9CNSOjHE",
        "outputId": "cff5cf5f-6a40-4321-d524-b726c4722a37"
      },
      "execution_count": null,
      "outputs": [
        {
          "output_type": "stream",
          "name": "stdout",
          "text": [
            "Segunda execução\n",
            "34.0 3.3 18.6 58.7 43.1 "
          ]
        }
      ]
    },
    {
      "cell_type": "markdown",
      "source": [
        "''' Escreva um programa que leia um inteiro Qtde e crie um conjunto com elementos inteiros aleatórios dentro de um intervalo fechado, de 1 a 50. Mostre o conjunto gerado na tela. Lembre-se que não podem haver elementos repetidos em conjuntos, então a geração de números aleatórios pode representar um problema. Como resolver isso ?\n",
        "Cuidado: esse programa te potencial para entrar em laço infinito caso o valor fornecido para Qtde seja maior que 50. Faça o teste e responda. Por que isso ocorre ?'''"
      ],
      "metadata": {
        "id": "jqEniwWdPiY4"
      }
    },
    {
      "cell_type": "code",
      "source": [
        "from random import randint\n",
        "\n",
        "numero = int(input('Digite um número inteiro: '))\n",
        "if numero > 50:\n",
        "  print('O número deve ser menor que 50')\n",
        "  numero = int(input('Digite um número inteiro: '))\n",
        "conjunto = set()\n",
        "while len(conjunto) < numero:\n",
        "  conjunto.add(randint(1, 50))\n",
        "print(conjunto)"
      ],
      "metadata": {
        "colab": {
          "base_uri": "https://localhost:8080/"
        },
        "id": "MdLwNVqWTeXr",
        "outputId": "48e08880-214e-4ded-84a5-b75d57a8c72b"
      },
      "execution_count": null,
      "outputs": [
        {
          "output_type": "stream",
          "name": "stdout",
          "text": [
            "Digite um número inteiro: 2\n",
            "{35, 45}\n"
          ]
        }
      ]
    },
    {
      "cell_type": "code",
      "source": [
        "A = set('tiotimolina')\n",
        "B = set('asimov')\n",
        "c= A & B, A - B\n"
      ],
      "metadata": {
        "id": "GjMEns01WKU-"
      },
      "execution_count": null,
      "outputs": []
    },
    {
      "cell_type": "code",
      "source": [
        "c"
      ],
      "metadata": {
        "colab": {
          "base_uri": "https://localhost:8080/"
        },
        "id": "yqJAuq3TaXjY",
        "outputId": "77748726-155e-4ec4-d879-ca82dc31b88e"
      },
      "execution_count": null,
      "outputs": [
        {
          "output_type": "execute_result",
          "data": {
            "text/plain": [
              "({'a', 'i', 'm', 'o'}, {'l', 'n', 't'})"
            ]
          },
          "metadata": {},
          "execution_count": 72
        }
      ]
    },
    {
      "cell_type": "code",
      "source": [
        "d = A ^ B"
      ],
      "metadata": {
        "id": "BoNRwnU_aYKO"
      },
      "execution_count": null,
      "outputs": []
    },
    {
      "cell_type": "code",
      "source": [
        "d"
      ],
      "metadata": {
        "colab": {
          "base_uri": "https://localhost:8080/"
        },
        "id": "JpIqOdmHacjR",
        "outputId": "ff3f62bc-28bb-463f-da02-57cd28bf1348"
      },
      "execution_count": null,
      "outputs": [
        {
          "output_type": "execute_result",
          "data": {
            "text/plain": [
              "{'l', 'n', 's', 't', 'v'}"
            ]
          },
          "metadata": {},
          "execution_count": 74
        }
      ]
    },
    {
      "cell_type": "markdown",
      "source": [
        "# LISTA USA UM ÍNDICE NUMÉRICO PARA ACESSAR TUPLAS DENTRO DA PRÓPRIA LISTA, ENQUANTO DICIONÁRIOS USAM A \"CHAVE\" COMO REFERÊNCIA, E ESSA CHAVE SOU EU QUE ESCOLHO. A chave pode ser um int, float, str ou até mesmo uma TUPLA. Mas só pode ser objeto IMUTÁVEL. Uma lista não é possível por exemplo."
      ],
      "metadata": {
        "id": "kUIxXREge5wu"
      }
    },
    {
      "cell_type": "code",
      "source": [
        "UF = {'SP': 'São Paulo', 'RJ': 'Rio de Janeiro', 'MG': 'Minas Gerais'}\n",
        "type(UF)"
      ],
      "metadata": {
        "colab": {
          "base_uri": "https://localhost:8080/"
        },
        "id": "KIXrM_7radOh",
        "outputId": "16daea05-8cb7-4627-d040-44aacceda240"
      },
      "execution_count": null,
      "outputs": [
        {
          "output_type": "execute_result",
          "data": {
            "text/plain": [
              "dict"
            ]
          },
          "metadata": {},
          "execution_count": 118
        }
      ]
    },
    {
      "cell_type": "code",
      "source": [
        "print(UF)"
      ],
      "metadata": {
        "colab": {
          "base_uri": "https://localhost:8080/"
        },
        "id": "vtFlkOGMgX0G",
        "outputId": "80dd9c3b-cbd1-4f63-cdf9-4312c324d3c1"
      },
      "execution_count": null,
      "outputs": [
        {
          "output_type": "stream",
          "name": "stdout",
          "text": [
            "{'SP': 'São Paulo', 'RJ': 'Rio de Janeiro', 'MG': 'Minas Gerais'}\n"
          ]
        }
      ]
    },
    {
      "cell_type": "code",
      "source": [
        "# como incluir valores e chaves em um dicionário\n",
        "UF['RS'] = 'Rio Grande do Sul'"
      ],
      "metadata": {
        "id": "m6ZdV2KJgaTV"
      },
      "execution_count": null,
      "outputs": []
    },
    {
      "cell_type": "code",
      "source": [
        "print(UF)"
      ],
      "metadata": {
        "colab": {
          "base_uri": "https://localhost:8080/"
        },
        "id": "JiZBcIiBg2EL",
        "outputId": "4755bc4c-3683-4891-c5cf-e8417168d8db"
      },
      "execution_count": null,
      "outputs": [
        {
          "output_type": "stream",
          "name": "stdout",
          "text": [
            "{'SP': 'São Paulo', 'RJ': 'Rio de Janeiro', 'MG': 'Minas Gerais', 'RS': 'Rio Grande do Sul'}\n"
          ]
        }
      ]
    },
    {
      "cell_type": "code",
      "source": [
        "# cria um vazio\n",
        "\n",
        "D = {}"
      ],
      "metadata": {
        "id": "GbuhbLHqg4Sr"
      },
      "execution_count": null,
      "outputs": []
    },
    {
      "cell_type": "code",
      "source": [
        "D['a'] = 120"
      ],
      "metadata": {
        "id": "ZJoRlG0LhRCI"
      },
      "execution_count": null,
      "outputs": []
    },
    {
      "cell_type": "code",
      "source": [
        "print(D)"
      ],
      "metadata": {
        "colab": {
          "base_uri": "https://localhost:8080/"
        },
        "id": "QMQIGrN1hVbZ",
        "outputId": "1e0aa88f-1d40-4435-dca1-7f90e357253c"
      },
      "execution_count": null,
      "outputs": [
        {
          "output_type": "stream",
          "name": "stdout",
          "text": [
            "{'a': 120}\n"
          ]
        }
      ]
    },
    {
      "cell_type": "code",
      "source": [
        "# se vc atribuir um valor diferente para esta mesma chave, vc ALTERA o conteúdo dela (o valor)\n",
        "\n",
        "D['a'] = 200"
      ],
      "metadata": {
        "id": "jGL8_YAfhX44"
      },
      "execution_count": null,
      "outputs": []
    },
    {
      "cell_type": "code",
      "source": [
        "print(D)"
      ],
      "metadata": {
        "colab": {
          "base_uri": "https://localhost:8080/"
        },
        "id": "71vubYZqhqdO",
        "outputId": "f800d7a8-8dfb-44f9-9a98-5c79e9ad24db"
      },
      "execution_count": null,
      "outputs": [
        {
          "output_type": "stream",
          "name": "stdout",
          "text": [
            "{'a': 200}\n"
          ]
        }
      ]
    },
    {
      "cell_type": "code",
      "source": [
        "D['b'] = 100"
      ],
      "metadata": {
        "id": "y8zlQiX9iIw9"
      },
      "execution_count": null,
      "outputs": []
    },
    {
      "cell_type": "code",
      "source": [
        "# vc pode realizar operações\n",
        "\n",
        "x = D['a'] + D['b']\n",
        "\n"
      ],
      "metadata": {
        "id": "7PcM3FZ7hsLe"
      },
      "execution_count": null,
      "outputs": []
    },
    {
      "cell_type": "code",
      "source": [
        "x"
      ],
      "metadata": {
        "colab": {
          "base_uri": "https://localhost:8080/"
        },
        "id": "xiZPUcetiCDB",
        "outputId": "5e609aae-875a-4cd1-a840-58dea9fd544e"
      },
      "execution_count": null,
      "outputs": [
        {
          "output_type": "execute_result",
          "data": {
            "text/plain": [
              "300"
            ]
          },
          "metadata": {},
          "execution_count": 129
        }
      ]
    },
    {
      "cell_type": "markdown",
      "source": [
        "# MÉTODOS PARA DICIONÁRIOS"
      ],
      "metadata": {
        "id": "o76VaSQ-kXBP"
      }
    },
    {
      "cell_type": "code",
      "source": [
        "D = {120 : 'Queijo', 200 : 'Leite', 300 : 'Ovos'}"
      ],
      "metadata": {
        "id": "53etuITuio9Z"
      },
      "execution_count": null,
      "outputs": []
    },
    {
      "cell_type": "code",
      "source": [
        "# adicionar\n",
        "D[125] = 'Manteiga'"
      ],
      "metadata": {
        "id": "tlhIhi0VkOsm"
      },
      "execution_count": null,
      "outputs": []
    },
    {
      "cell_type": "code",
      "source": [
        "D"
      ],
      "metadata": {
        "colab": {
          "base_uri": "https://localhost:8080/"
        },
        "id": "YDMiFo-TkUng",
        "outputId": "1cbd441d-eaca-43b8-9d44-7fa828752609"
      },
      "execution_count": null,
      "outputs": [
        {
          "output_type": "execute_result",
          "data": {
            "text/plain": [
              "{120: 'Queijo', 200: 'Leite', 300: 'Ovos', 125: 'Manteiga'}"
            ]
          },
          "metadata": {},
          "execution_count": 132
        }
      ]
    },
    {
      "cell_type": "code",
      "source": [
        "D[133] = 'Macarrão'"
      ],
      "metadata": {
        "id": "3Zr25i3zkVOm"
      },
      "execution_count": null,
      "outputs": []
    },
    {
      "cell_type": "code",
      "source": [
        "D"
      ],
      "metadata": {
        "colab": {
          "base_uri": "https://localhost:8080/"
        },
        "id": "BNZT2ornkrSr",
        "outputId": "6ac7b239-922b-45f3-a27b-e52925e8fec7"
      },
      "execution_count": null,
      "outputs": [
        {
          "output_type": "execute_result",
          "data": {
            "text/plain": [
              "{120: 'Queijo', 200: 'Leite', 300: 'Ovos', 125: 'Manteiga', 133: 'Macarrão'}"
            ]
          },
          "metadata": {},
          "execution_count": 134
        }
      ]
    },
    {
      "cell_type": "code",
      "source": [
        "len(D)"
      ],
      "metadata": {
        "colab": {
          "base_uri": "https://localhost:8080/"
        },
        "id": "awgcU1RoksAz",
        "outputId": "b8ae89a5-2404-4845-86e6-a2dda1834ac0"
      },
      "execution_count": null,
      "outputs": [
        {
          "output_type": "execute_result",
          "data": {
            "text/plain": [
              "5"
            ]
          },
          "metadata": {},
          "execution_count": 135
        }
      ]
    },
    {
      "cell_type": "code",
      "source": [
        "# se fizer uma cópia usando copy, ele cria outro dict igual, porém são objetos diferentes, com IDs diferentes\n",
        "\n",
        "A = D.copy()"
      ],
      "metadata": {
        "id": "iQzPohPPkv0z"
      },
      "execution_count": null,
      "outputs": []
    },
    {
      "cell_type": "code",
      "source": [
        "id(A)"
      ],
      "metadata": {
        "colab": {
          "base_uri": "https://localhost:8080/"
        },
        "id": "FEOgUmWglRjZ",
        "outputId": "85447d45-ecf2-4bcb-cfc4-4da043c79dc8"
      },
      "execution_count": null,
      "outputs": [
        {
          "output_type": "execute_result",
          "data": {
            "text/plain": [
              "136050473254208"
            ]
          },
          "metadata": {},
          "execution_count": 137
        }
      ]
    },
    {
      "cell_type": "code",
      "source": [
        "id(D)"
      ],
      "metadata": {
        "colab": {
          "base_uri": "https://localhost:8080/"
        },
        "id": "K8iCH46IlXYE",
        "outputId": "644d080c-53ce-4a59-8dd0-92d572d7d4e6"
      },
      "execution_count": null,
      "outputs": [
        {
          "output_type": "execute_result",
          "data": {
            "text/plain": [
              "136050474902464"
            ]
          },
          "metadata": {},
          "execution_count": 138
        }
      ]
    },
    {
      "cell_type": "code",
      "source": [
        "# o get busca o valor pela chave que vc determina:\n",
        "\n",
        "D.get(120)"
      ],
      "metadata": {
        "colab": {
          "base_uri": "https://localhost:8080/",
          "height": 35
        },
        "id": "SwYSbB0flZBs",
        "outputId": "cb706c62-03a1-4dd3-97da-70470d9c68fe"
      },
      "execution_count": null,
      "outputs": [
        {
          "output_type": "execute_result",
          "data": {
            "text/plain": [
              "'Queijo'"
            ],
            "application/vnd.google.colaboratory.intrinsic+json": {
              "type": "string"
            }
          },
          "metadata": {},
          "execution_count": 139
        }
      ]
    },
    {
      "cell_type": "code",
      "source": [
        "# vc pode atribuir a um valor\n",
        "\n",
        "X = D[200]"
      ],
      "metadata": {
        "id": "fzfNnPYCluNG"
      },
      "execution_count": null,
      "outputs": []
    },
    {
      "cell_type": "code",
      "source": [
        "x"
      ],
      "metadata": {
        "colab": {
          "base_uri": "https://localhost:8080/"
        },
        "id": "Hnv5V43nl0Vq",
        "outputId": "3e73246f-ea47-4c1f-9c88-5a73caf15252"
      },
      "execution_count": null,
      "outputs": [
        {
          "output_type": "execute_result",
          "data": {
            "text/plain": [
              "300"
            ]
          },
          "metadata": {},
          "execution_count": 141
        }
      ]
    },
    {
      "cell_type": "code",
      "source": [
        "D.get(125)"
      ],
      "metadata": {
        "colab": {
          "base_uri": "https://localhost:8080/",
          "height": 35
        },
        "id": "9eMWw5YWl0-J",
        "outputId": "868aff4e-9cad-406e-be16-f7632b0e66f7"
      },
      "execution_count": null,
      "outputs": [
        {
          "output_type": "execute_result",
          "data": {
            "text/plain": [
              "'Manteiga'"
            ],
            "application/vnd.google.colaboratory.intrinsic+json": {
              "type": "string"
            }
          },
          "metadata": {},
          "execution_count": 142
        }
      ]
    },
    {
      "cell_type": "code",
      "source": [
        "# O fromkeys é utilizado para encher um novo dicionário vazio, com chaves, e com valores geralmente em branco, para serem preenchidos depois\n",
        "codigos = [103, 117, 121, 135, 161, 189, 200, 204, 216]\n",
        "C = {}.fromkeys(codigos, ' ')"
      ],
      "metadata": {
        "id": "Zom8CcQsmS9v"
      },
      "execution_count": null,
      "outputs": []
    },
    {
      "cell_type": "code",
      "source": [
        "C"
      ],
      "metadata": {
        "colab": {
          "base_uri": "https://localhost:8080/"
        },
        "id": "b204NlefnTHp",
        "outputId": "10577e5e-c914-4807-b97a-31edef6c1bfe"
      },
      "execution_count": null,
      "outputs": [
        {
          "output_type": "execute_result",
          "data": {
            "text/plain": [
              "{103: ' ',\n",
              " 117: ' ',\n",
              " 121: ' ',\n",
              " 135: ' ',\n",
              " 161: ' ',\n",
              " 189: ' ',\n",
              " 200: ' ',\n",
              " 204: ' ',\n",
              " 216: ' '}"
            ]
          },
          "metadata": {},
          "execution_count": 144
        }
      ]
    },
    {
      "cell_type": "code",
      "source": [
        "# depois vc pode atribui os valores às chaves\n",
        "\n",
        "C[103] = 'Queijo'"
      ],
      "metadata": {
        "id": "byOc95xcnezl"
      },
      "execution_count": null,
      "outputs": []
    },
    {
      "cell_type": "code",
      "source": [
        "C"
      ],
      "metadata": {
        "colab": {
          "base_uri": "https://localhost:8080/"
        },
        "id": "bRwIjP2mnvAn",
        "outputId": "76b2487d-8ddd-4573-9ee4-6e1ebc01ea7c"
      },
      "execution_count": null,
      "outputs": [
        {
          "output_type": "execute_result",
          "data": {
            "text/plain": [
              "{103: 'Queijo',\n",
              " 117: ' ',\n",
              " 121: ' ',\n",
              " 135: ' ',\n",
              " 161: ' ',\n",
              " 189: ' ',\n",
              " 200: ' ',\n",
              " 204: ' ',\n",
              " 216: ' '}"
            ]
          },
          "metadata": {},
          "execution_count": 146
        }
      ]
    },
    {
      "cell_type": "code",
      "source": [
        "# pop retira um valor da chave, e armaneza em uma variável atribuída.\n",
        "\n",
        "x = C.pop(103)"
      ],
      "metadata": {
        "id": "g2CEv_xbnwAn"
      },
      "execution_count": null,
      "outputs": []
    },
    {
      "cell_type": "code",
      "source": [
        "x"
      ],
      "metadata": {
        "colab": {
          "base_uri": "https://localhost:8080/",
          "height": 35
        },
        "id": "h3QAVsg3-_Tz",
        "outputId": "24e9439e-0c68-486b-bf76-0af7bd6cfbb5"
      },
      "execution_count": null,
      "outputs": [
        {
          "output_type": "execute_result",
          "data": {
            "text/plain": [
              "'Queijo'"
            ],
            "application/vnd.google.colaboratory.intrinsic+json": {
              "type": "string"
            }
          },
          "metadata": {},
          "execution_count": 148
        }
      ]
    },
    {
      "cell_type": "code",
      "source": [
        "# popitem retira o último valor que entrou no dicionário, e transforma em uma tupla na variável atribuída\n",
        "\n",
        "x = D.popitem()"
      ],
      "metadata": {
        "id": "bACIeTZQ_ADb"
      },
      "execution_count": null,
      "outputs": []
    },
    {
      "cell_type": "code",
      "source": [
        "x"
      ],
      "metadata": {
        "colab": {
          "base_uri": "https://localhost:8080/"
        },
        "id": "11XkV0xg_eVw",
        "outputId": "4da02f24-6421-4594-b327-620c32686edc"
      },
      "execution_count": null,
      "outputs": [
        {
          "output_type": "execute_result",
          "data": {
            "text/plain": [
              "(133, 'Macarrão')"
            ]
          },
          "metadata": {},
          "execution_count": 150
        }
      ]
    },
    {
      "cell_type": "code",
      "source": [
        "# setdefault insere uma nova chave e elemento, mas se a chave já existir, o valor dessa chave não vai ser alterado\n",
        "\n",
        "D.setdefault(220, 'Farinha')"
      ],
      "metadata": {
        "colab": {
          "base_uri": "https://localhost:8080/",
          "height": 35
        },
        "id": "LXf6awLq_i4A",
        "outputId": "acd5277c-f001-4d7f-d537-435d01908603"
      },
      "execution_count": null,
      "outputs": [
        {
          "output_type": "execute_result",
          "data": {
            "text/plain": [
              "'Farinha'"
            ],
            "application/vnd.google.colaboratory.intrinsic+json": {
              "type": "string"
            }
          },
          "metadata": {},
          "execution_count": 151
        }
      ]
    },
    {
      "cell_type": "code",
      "source": [
        "D"
      ],
      "metadata": {
        "colab": {
          "base_uri": "https://localhost:8080/"
        },
        "id": "wfZUZPhAAaow",
        "outputId": "a053bd25-d6f4-4ead-9e31-a259b797305f"
      },
      "execution_count": null,
      "outputs": [
        {
          "output_type": "execute_result",
          "data": {
            "text/plain": [
              "{120: 'Queijo', 200: 'Leite', 300: 'Ovos', 125: 'Manteiga', 220: 'Farinha'}"
            ]
          },
          "metadata": {},
          "execution_count": 152
        }
      ]
    },
    {
      "cell_type": "code",
      "source": [
        "# update deve ter como parâmetro (), e deve-se acrescentar os elementos em outra tupla. Ficam tuplas dentro de tuplas.\n",
        "\n",
        "D.update(((155, 'cebola'), (157, 'Ameixa'), (159, 'ervilha')))"
      ],
      "metadata": {
        "id": "ds5UbOQqAb6o"
      },
      "execution_count": null,
      "outputs": []
    },
    {
      "cell_type": "code",
      "source": [
        "D"
      ],
      "metadata": {
        "colab": {
          "base_uri": "https://localhost:8080/"
        },
        "id": "fzpVuCvcC_tR",
        "outputId": "9285ba50-d0e4-45aa-97d9-73199fbc8128"
      },
      "execution_count": null,
      "outputs": [
        {
          "output_type": "execute_result",
          "data": {
            "text/plain": [
              "{120: 'Queijo',\n",
              " 200: 'Leite',\n",
              " 300: 'Ovos',\n",
              " 125: 'Manteiga',\n",
              " 220: 'Farinha',\n",
              " 155: 'cebola',\n",
              " 157: 'Ameixa',\n",
              " 159: 'ervilha'}"
            ]
          },
          "metadata": {},
          "execution_count": 154
        }
      ]
    },
    {
      "cell_type": "code",
      "source": [
        "# keys separa e exibe todas as chaves que existem num dicionário\n",
        "\n",
        "k = D.keys()"
      ],
      "metadata": {
        "id": "9UQbEV9tDEP5"
      },
      "execution_count": null,
      "outputs": []
    },
    {
      "cell_type": "code",
      "source": [
        "k"
      ],
      "metadata": {
        "colab": {
          "base_uri": "https://localhost:8080/"
        },
        "id": "crF0e3W1Dv--",
        "outputId": "ea92bd98-e325-462f-f255-b4e27e273fb8"
      },
      "execution_count": null,
      "outputs": [
        {
          "output_type": "execute_result",
          "data": {
            "text/plain": [
              "dict_keys([120, 200, 300, 125, 220, 155, 157, 159])"
            ]
          },
          "metadata": {},
          "execution_count": 156
        }
      ]
    },
    {
      "cell_type": "code",
      "source": [
        "# values separa e exibe todos os valores\n",
        "\n",
        "v = D.values()"
      ],
      "metadata": {
        "id": "S9sz7v20Dca2"
      },
      "execution_count": null,
      "outputs": []
    },
    {
      "cell_type": "code",
      "source": [
        "v"
      ],
      "metadata": {
        "id": "RNUh46z1D2IR",
        "outputId": "67d1b523-8572-49bc-b8be-df05028126b7",
        "colab": {
          "base_uri": "https://localhost:8080/"
        }
      },
      "execution_count": null,
      "outputs": [
        {
          "output_type": "execute_result",
          "data": {
            "text/plain": [
              "dict_values(['Queijo', 'Leite', 'Ovos', 'Manteiga', 'Farinha', 'cebola', 'Ameixa', 'ervilha'])"
            ]
          },
          "metadata": {},
          "execution_count": 158
        }
      ]
    },
    {
      "cell_type": "code",
      "source": [
        "# items retorna todas as combinações do dicionário em tuplas dentro de uma lista\n",
        "\n",
        "i = D.items()"
      ],
      "metadata": {
        "id": "byers8PfD38B"
      },
      "execution_count": null,
      "outputs": []
    },
    {
      "cell_type": "code",
      "source": [
        "i"
      ],
      "metadata": {
        "colab": {
          "base_uri": "https://localhost:8080/"
        },
        "id": "bSzV-WgZXwtQ",
        "outputId": "e6b7fead-5f05-430e-b27f-eec0c0c5550a"
      },
      "execution_count": null,
      "outputs": [
        {
          "output_type": "execute_result",
          "data": {
            "text/plain": [
              "dict_items([(120, 'Queijo'), (200, 'Leite'), (300, 'Ovos'), (125, 'Manteiga'), (220, 'Farinha'), (155, 'cebola'), (157, 'Ameixa'), (159, 'ervilha')])"
            ]
          },
          "metadata": {},
          "execution_count": 160
        }
      ]
    },
    {
      "cell_type": "code",
      "source": [
        "for k in D.items():\n",
        "  print(k)"
      ],
      "metadata": {
        "colab": {
          "base_uri": "https://localhost:8080/"
        },
        "id": "2NE7ARwCYS8U",
        "outputId": "d65cbb6e-34a3-431b-acf8-7f7584195482"
      },
      "execution_count": null,
      "outputs": [
        {
          "output_type": "stream",
          "name": "stdout",
          "text": [
            "(120, 'Queijo')\n",
            "(200, 'Leite')\n",
            "(300, 'Ovos')\n",
            "(125, 'Manteiga')\n",
            "(220, 'Farinha')\n",
            "(155, 'cebola')\n",
            "(157, 'Ameixa')\n",
            "(159, 'ervilha')\n"
          ]
        }
      ]
    },
    {
      "cell_type": "code",
      "source": [
        "# agora usando o keys\n",
        "\n",
        "for k in D.keys():\n",
        "  print(k)"
      ],
      "metadata": {
        "colab": {
          "base_uri": "https://localhost:8080/"
        },
        "id": "V2yrQm__Ymz5",
        "outputId": "ddc70fb6-930f-4fa0-dd44-65c7ea4ced3f"
      },
      "execution_count": null,
      "outputs": [
        {
          "output_type": "stream",
          "name": "stdout",
          "text": [
            "120\n",
            "200\n",
            "300\n",
            "125\n",
            "220\n",
            "155\n",
            "157\n",
            "159\n"
          ]
        }
      ]
    },
    {
      "cell_type": "code",
      "source": [
        "for k in D.values():\n",
        "  print(k)"
      ],
      "metadata": {
        "colab": {
          "base_uri": "https://localhost:8080/"
        },
        "id": "BARAUo2kY3Ak",
        "outputId": "799c7ea4-572d-4eec-824e-0ae77f7728d0"
      },
      "execution_count": null,
      "outputs": [
        {
          "output_type": "stream",
          "name": "stdout",
          "text": [
            "Queijo\n",
            "Leite\n",
            "Ovos\n",
            "Manteiga\n",
            "Farinha\n",
            "cebola\n",
            "Ameixa\n",
            "ervilha\n"
          ]
        }
      ]
    },
    {
      "cell_type": "code",
      "source": [
        "Cores = { 1 : 'azul',  2 : 'verde', 3 : 'amarelo', 4 : 'vermelho'}"
      ],
      "metadata": {
        "id": "fsYmQmijY6it"
      },
      "execution_count": null,
      "outputs": []
    },
    {
      "cell_type": "code",
      "source": [
        "# EXIBIÇÃO DE UM DICIONÁRIO - se não colocar o .keys funciona igual, pq é o default do Python usar sempre a chave\n",
        "\n",
        "for k in Cores.keys():\n",
        "  print(f' {k} - {Cores[k]}')\n"
      ],
      "metadata": {
        "colab": {
          "base_uri": "https://localhost:8080/"
        },
        "id": "uoIp8tPzZSLu",
        "outputId": "f95d07c3-36e3-4972-aa5d-f0d699626cd8"
      },
      "execution_count": null,
      "outputs": [
        {
          "output_type": "stream",
          "name": "stdout",
          "text": [
            " 1 - azul\n",
            " 2 - verde\n",
            " 3 - amarelo\n",
            " 4 - vermelho\n"
          ]
        }
      ]
    },
    {
      "cell_type": "code",
      "source": [
        "# agora iterando com values, não tem acesso às chaves\n",
        "\n",
        "for v in Cores.values():\n",
        "  print(f'  {v}')"
      ],
      "metadata": {
        "colab": {
          "base_uri": "https://localhost:8080/"
        },
        "id": "eQJtLdmJZ_r5",
        "outputId": "b8c1bdd3-9edf-4bfc-faaa-55311f4b5420"
      },
      "execution_count": null,
      "outputs": [
        {
          "output_type": "stream",
          "name": "stdout",
          "text": [
            "  azul\n",
            "  verde\n",
            "  amarelo\n",
            "  vermelho\n"
          ]
        }
      ]
    },
    {
      "cell_type": "code",
      "source": [
        "# iterando chave e valor\n",
        "\n",
        "for k, v in Cores.items():\n",
        "  print(f' {k} - {v}')"
      ],
      "metadata": {
        "colab": {
          "base_uri": "https://localhost:8080/"
        },
        "id": "sk_JM9QhatAC",
        "outputId": "324ab69d-f039-4e95-bd50-175a99094324"
      },
      "execution_count": null,
      "outputs": [
        {
          "output_type": "stream",
          "name": "stdout",
          "text": [
            " 1 - azul\n",
            " 2 - verde\n",
            " 3 - amarelo\n",
            " 4 - vermelho\n"
          ]
        }
      ]
    },
    {
      "cell_type": "markdown",
      "source": [
        "''' Escreva um programa que leia do teclado o código de um produto  e seu preço unitário; o código é uma string e o preço é real. Acrescente o par \"código : preço\" em um dicionário. O laço termina quando for fornecida uma string vazia para o código. Ao final exibir código e preço, um produto em cada linha"
      ],
      "metadata": {
        "id": "tM_0YpBJcCGw"
      }
    },
    {
      "cell_type": "code",
      "source": [
        "produtos = {}\n",
        "print('leitura dos dados')\n",
        "cod = input('Digite o código do produto: ')\n",
        "while cod != '':\n",
        "  preco = float(input('Digite o preço do produto: '))\n",
        "  produtos[cod] = preco # monta o dicionário com chave e valor dentro das variáveis\n",
        "  cod = input('Digite o código do produto: ')\n",
        "print('Exibição dos dados')\n",
        "for k, v in produtos.items():\n",
        "  print(f' {k} - {v}')"
      ],
      "metadata": {
        "colab": {
          "base_uri": "https://localhost:8080/"
        },
        "id": "8caEKDopdB6G",
        "outputId": "69945441-d436-4773-97f6-18322f67be24"
      },
      "execution_count": null,
      "outputs": [
        {
          "output_type": "stream",
          "name": "stdout",
          "text": [
            "leitura dos dados\n",
            "Digite o código do produto: 10\n",
            "Digite o preço do produto: 200\n",
            "Digite o código do produto: 20\n",
            "Digite o preço do produto: 400\n",
            "Digite o código do produto: \n",
            "Exibição dos dados\n",
            " 10 - 200.0\n",
            " 20 - 400.0\n"
          ]
        }
      ]
    },
    {
      "cell_type": "markdown",
      "source": [
        "Escreva um programa que leia do teclado o código de um produto e seu preço unitário. O código é uma string e o preço é real. Acrescente o par \"código : preço\" em um dicionário. O programa deve verificar se o código já está no dicionário e neste caso deve emitir uma mensagem de erro. O laço termina quando for fornecida uma string vazia. Ao final exibir código e preço, um produto em cada linha."
      ],
      "metadata": {
        "id": "lR4ga3l3Rag8"
      }
    },
    {
      "cell_type": "code",
      "source": [
        "produtos = {}\n",
        "print('leitura dos dados')\n",
        "while True:\n",
        "  cod = input('Digite o código do produto: ')\n",
        "  if cod == '':\n",
        "    break\n",
        "  elif cod in produtos:\n",
        "    print('Código já cadastrado')\n",
        "    continue\n",
        "  preco = float(input('Digite o preço do produto: '))\n",
        "  produtos[cod] = preco # cria um dicionário\n",
        "\n",
        "print('Exibição dos dados')\n",
        "for k, v in produtos.items():\n",
        "  print(f' {k} - {v}')"
      ],
      "metadata": {
        "colab": {
          "base_uri": "https://localhost:8080/"
        },
        "id": "-Q6w9d1fglw3",
        "outputId": "16c3a162-eb6e-4ab0-e0bd-6737e9b64a93"
      },
      "execution_count": null,
      "outputs": [
        {
          "output_type": "stream",
          "name": "stdout",
          "text": [
            "leitura dos dados\n",
            "Digite o código do produto: 100\n",
            "Digite o preço do produto: 20\n",
            "Digite o código do produto: 100\n",
            "Código já cadastrado\n",
            "Digite o código do produto: 250\n",
            "Digite o preço do produto: 233\n",
            "Digite o código do produto: \n",
            "Exibição dos dados\n",
            " 100 - 20.0\n",
            " 250 - 233.0\n"
          ]
        }
      ]
    },
    {
      "cell_type": "markdown",
      "source": [
        "''' Escreva um programa que leia dados dos estados brasileiros: Sigla, Nome, Capital e PIB. A sigla de ve ser usada como nome e os valores devem estar numa tupla formada por (Nome, Capital, PIB). A leitura termina quando for fornecida uma string vazia para a sigla.\n",
        "Exibir os dados na tela"
      ],
      "metadata": {
        "id": "2jkZm4UsZiat"
      }
    },
    {
      "cell_type": "code",
      "source": [
        "UF = input('Digite a sigla do estado: ')\n",
        "nome = input('Digite o nome do estado: ')\n",
        "capital = input('Digite a capital do estado: ')\n",
        "pib = float(input('Digite o PIB do estado: '))\n",
        "dados = (nome, capital, pib)\n",
        "estados = {UF : dados}\n",
        "print(estados)"
      ],
      "metadata": {
        "id": "0dQSZeh-SoUl",
        "colab": {
          "base_uri": "https://localhost:8080/"
        },
        "outputId": "3733cb8a-8580-4d04-be43-474779ab2ea0"
      },
      "execution_count": null,
      "outputs": [
        {
          "output_type": "stream",
          "name": "stdout",
          "text": [
            "Digite a sigla do estado: SP\n",
            "Digite o nome do estado: São Paulo\n",
            "Digite a capital do estado: São Paulo\n",
            "Digite o PIB do estado: 2553333.25\n",
            "{'SP': ('São Paulo', 'São Paulo', 2553333.25)}\n"
          ]
        }
      ]
    },
    {
      "cell_type": "code",
      "source": [
        "UF = {}\n",
        "print('Leitura dos dados')\n",
        "while True:\n",
        "  sigla = input('Digite a sigla do estado: ')\n",
        "  if sigla == '':\n",
        "    break\n",
        "  elif sigla in UF:\n",
        "    print(f'A UF {sigla} já foi impostada')\n",
        "    continue\n",
        "  estado = input('Digite o nome do estado: ')\n",
        "  capital = input('Digite a capital do estado: ')\n",
        "  pib = float(input('Digite o PIB do estado: '))\n",
        "  UF[sigla] = (estado, capital, pib)\n",
        "print('Exibição dos dados')\n",
        "for item in UF.items():\n",
        "  print(f' {item}')"
      ],
      "metadata": {
        "colab": {
          "base_uri": "https://localhost:8080/"
        },
        "id": "xO5rk2cYbGJa",
        "outputId": "2eabb897-755e-4d61-e54c-056a48cfde6b"
      },
      "execution_count": null,
      "outputs": [
        {
          "output_type": "stream",
          "name": "stdout",
          "text": [
            "Leitura dos dados\n",
            "Digite a sigla do estado: sp\n",
            "Digite o nome do estado: são paulo\n",
            "Digite a capital do estado: são pualo\n",
            "Digite o PIB do estado: 151515115\n",
            "Digite a sigla do estado: mg\n",
            "Digite o nome do estado: minas\n",
            "Digite a capital do estado: berizon\n",
            "Digite o PIB do estado: 78877\n",
            "Digite a sigla do estado: \n",
            "Exibição dos dados\n",
            " ('sp', ('são paulo', 'são pualo', 151515115.0))\n",
            " ('mg', ('minas', 'berizon', 78877.0))\n"
          ]
        }
      ]
    },
    {
      "cell_type": "code",
      "source": [
        "# agora em vez de tupla o resultado é gerado com dicionário aninhado\n",
        "UF = {}\n",
        "print('Leitura dos dados')\n",
        "while True:\n",
        "  sigla = input('Digite a sigla do estado: ')\n",
        "  if sigla == '':\n",
        "    break\n",
        "  elif sigla in UF:\n",
        "    print(f'A UF {sigla} já foi impostada')\n",
        "    continue\n",
        "  estado = input('Digite o nome do estado: ')\n",
        "  capital = input('Digite a capital do estado: ')\n",
        "  pib = float(input('Digite o PIB do estado: '))\n",
        "  dictItem = {'nome': estado, 'capital': capital, 'pib': pib}\n",
        "  UF[sigla] = dictItem\n",
        "print('Exibição dos dados')\n",
        "for item in UF.items():\n",
        "  print(f' {item}')"
      ],
      "metadata": {
        "id": "UqGWlI1UbaHX"
      },
      "execution_count": null,
      "outputs": []
    },
    {
      "cell_type": "markdown",
      "source": [
        "## GRAVANDO DADOS EM DISCO USANDO MÉTODOOS WRITE, WRITELINE, READLINE"
      ],
      "metadata": {
        "id": "GT7qMPdnX4vz"
      }
    },
    {
      "cell_type": "markdown",
      "source": [
        "''' Ex 11.1 Escreva uma laço que leia números inteiros até que seja digitado zero. Todos os valores devem ser gravados em um arquivo em disco, um por linha. Usar o método .write()"
      ],
      "metadata": {
        "id": "o2CZrtKsPR5U"
      }
    },
    {
      "cell_type": "code",
      "source": [
        "# abrindo um arquivo compatível com a extensão (no caso txt), usando o método write\n",
        "\n",
        "arq = open('Exercicio11.1.txt', 'w')\n",
        "A = int(input('Digite um número inteiro: '))\n",
        "while A != 0:\n",
        "  arq.write(f'{A}\\n')\n",
        "  A = int(input('Digite um número inteiro: '))\n",
        "arq.close() # muito importante FECHAR o arquivo, para transferir do Buffer de memória para seu disco\n"
      ],
      "metadata": {
        "colab": {
          "base_uri": "https://localhost:8080/"
        },
        "id": "lWZ5oLQ7Pq8-",
        "outputId": "e5d227a2-225b-4e19-adcc-e8b0e1ba2ddb"
      },
      "execution_count": null,
      "outputs": [
        {
          "name": "stdout",
          "output_type": "stream",
          "text": [
            "Digite um número inteiro: 2\n",
            "Digite um número inteiro: 5\n",
            "Digite um número inteiro: 4\n",
            "Digite um número inteiro: 8\n",
            "Digite um número inteiro: 0\n"
          ]
        }
      ]
    },
    {
      "cell_type": "code",
      "source": [
        "# usando o método writelines, que também usa o write e só aceita strings\n",
        "\n",
        "lista = ['1.5\\n', '2.33\\n', '5\\n']\n",
        "arq = open('Exercicio11.2.txt', 'w')\n",
        "arq.writelines(lista)\n",
        "arq.close()"
      ],
      "metadata": {
        "id": "XcsDrmbWSeVY"
      },
      "execution_count": null,
      "outputs": []
    },
    {
      "cell_type": "markdown",
      "source": [
        "Escreva um programa que leia números inteiros até que seja digitado zero. Todos os valores digitados, exceto o zero, devem ser gravados em um arquivo de disco, um por linha, com 3 casa decimais. usar método writelines"
      ],
      "metadata": {
        "id": "PcnwPxptVFAQ"
      }
    },
    {
      "cell_type": "code",
      "source": [
        "Lista = []\n",
        "x = float(input('Digite um número: '))\n",
        "while x != 0:\n",
        "  lista.append(f'{x:.3f}\\n')\n",
        "  x = float(input('Digite um número: '))\n",
        "print(lista)\n",
        "arq = open('exercicio11.3.txt', 'w')\n",
        "arq.writelines(lista)\n",
        "arq.close()\n",
        "\n"
      ],
      "metadata": {
        "colab": {
          "base_uri": "https://localhost:8080/"
        },
        "id": "VhdsTdnHUd7z",
        "outputId": "d8ab8632-d8b7-41e0-d475-50d9cb121484"
      },
      "execution_count": null,
      "outputs": [
        {
          "output_type": "stream",
          "name": "stdout",
          "text": [
            "Digite um número: 3.5\n",
            "Digite um número: 1.777\n",
            "Digite um número: 0.43\n",
            "Digite um número: 5\n",
            "Digite um número: 0\n",
            "['1.5\\n', '2.33\\n', '5\\n', '2.000', '1.000', '5.000', '2.000\\n', '5.000\\n', '7.000\\n', '3.000\\n', '5.000\\n', '2.000\\n', '3.500\\n', '1.777\\n', '0.430\\n', '5.000\\n']\n"
          ]
        }
      ]
    },
    {
      "cell_type": "markdown",
      "source": [
        "'''Escreva um programa que leia um arquivo de entrada, sabendo que esse arquivo tem um número inteiro em cada linha. Todos os números lidos devem ser mostrados em tela. Mostrar tambpem a soma dos valores, a quantidade, a média aritmética, o menor valor e o maior valor. Usar um laço while e na leitura usar o método .readline()'''"
      ],
      "metadata": {
        "id": "9Paf80mlYCsL"
      }
    },
    {
      "cell_type": "code",
      "source": [
        "arq = open('exercicio11.4.txt', 'w')"
      ],
      "metadata": {
        "id": "0rXUrJ_keA8P"
      },
      "execution_count": null,
      "outputs": []
    },
    {
      "cell_type": "code",
      "source": [
        "lista = ['125\\n','230\\n','22\\n', '4\\n', '615\\n']\n"
      ],
      "metadata": {
        "id": "U1q18DXueZic"
      },
      "execution_count": null,
      "outputs": []
    },
    {
      "cell_type": "code",
      "source": [
        "lista = []\n",
        "arqentr = open('exercicio11.4.txt', 'r')\n",
        "linha = arqentr.readline()\n",
        "while linha != '':\n",
        "  lista.append(int(linha))\n",
        "  linha = arqentr.readline()\n",
        "arqentr.close()\n",
        "print(f'A lista é {lista}')\n",
        "soma = sum(lista)\n",
        "print(f'A soma é {soma}')\n",
        "tamanho = len(lista)\n",
        "print(f'A quantidade é {tamanho}')\n",
        "media = soma/tamanho\n",
        "print(f'A média é {media}')\n",
        "print(f'O maior valor é {max(lista)}')\n",
        "print(f'O menor valor é {min(lista)}')\n",
        "\n",
        "\n"
      ],
      "metadata": {
        "colab": {
          "base_uri": "https://localhost:8080/"
        },
        "id": "-VXlT9TfV_0c",
        "outputId": "fa3bcf5d-d87d-4a65-bdd3-35cf8b4fa205"
      },
      "execution_count": null,
      "outputs": [
        {
          "output_type": "stream",
          "name": "stdout",
          "text": [
            "A lista é [125, 230, 22, 4, 615]\n",
            "A soma é 996\n",
            "A quantidade é 5\n",
            "A média é 199.2\n",
            "O maior valor é 615\n",
            "O menor valor é 4\n"
          ]
        }
      ]
    },
    {
      "cell_type": "markdown",
      "source": [
        "''' Ex 11.05 Escreva um programa que leia um arquivo de entrada, sabendo que esse arquivo tem um número inteiro em cada linha. Todos os números lidos devem ser mostrados em tela. Mostrar também a soma, a quantidade, a média, o menor e o maior valor. Usar o mesmo arquivo de entrada do exercício anterior.\n",
        "USAR UM ITERADOR for e o arquivo como ITERÀVEL"
      ],
      "metadata": {
        "id": "Z_Tw5VPBio2n"
      }
    },
    {
      "cell_type": "code",
      "source": [
        "lista = []\n",
        "\n",
        "for linha in open('exercicio11.4.txt', 'r'):\n",
        "  lista.append(int(linha))\n",
        "\n",
        "# TODO ESSE BLOCO É SUBSTITUÍDO POR APENAS 2 LINHAS USANDO O OPEN COMO ITERÁVEL\n",
        "# arqentr = open('exercicio11.4.txt', 'r')\n",
        "# linha = arqentr.readline()\n",
        "# while linha != '':\n",
        "# lista.append(int(linha))\n",
        "# linha = arqentr.readline()\n",
        "# arqentr.close()\n",
        "\n",
        "print(f'A lista é {lista}')\n",
        "soma = sum(lista)\n",
        "print(f'A soma é {soma}')\n",
        "tamanho = len(lista)\n",
        "print(f'A quantidade é {tamanho}')\n",
        "media = soma/tamanho\n",
        "print(f'A média é {media}')\n",
        "print(f'O maior valor é {max(lista)}')\n",
        "print(f'O menor valor é {min(lista)}')\n"
      ],
      "metadata": {
        "colab": {
          "base_uri": "https://localhost:8080/"
        },
        "id": "Q2fmUXvzZlWc",
        "outputId": "2faa1cdc-9c05-40b2-eba3-622d10a3fff1"
      },
      "execution_count": null,
      "outputs": [
        {
          "output_type": "stream",
          "name": "stdout",
          "text": [
            "A lista é [125, 230, 22, 4, 615]\n",
            "A soma é 996\n",
            "A quantidade é 5\n",
            "A média é 199.2\n",
            "O maior valor é 615\n",
            "O menor valor é 4\n"
          ]
        }
      ]
    },
    {
      "cell_type": "markdown",
      "source": [
        "Ex 11.6 escreva um programa que leia um arquivo carregando seu dados em um dicionário e ao final exibindo-os na tela. A figura 11.1 mostra do lado esquerdo a natureza dos dados que serão lidos e do lado direito o formato dos arquivos.\n",
        "Esse formato é conhecido com o csv. O que caracteriza um csv é que cada linha tem um conjunto de dados de alguma forma relacionados e separados por um caractere deilimitador, que nesse caso é um ponto-e-vírgula.\n",
        "No nosso expelo, cada linha tem: código de produto(int), a qtdade em estoque(int), preço(float)"
      ],
      "metadata": {
        "id": "aqSm9W-ro7dc"
      }
    },
    {
      "cell_type": "code",
      "source": [
        "estoque = {}\n",
        "for linha in open('exercicio1106.txt', 'r'):\n",
        "  lst = linha.rstrip().split(';') # rstrip tira o pulo de linha (\\n) que o Python lê em toda linha de string, como se tivesse um \\n\n",
        "  #l = s.split(';')\n",
        "  print(lst)\n",
        "  cod = int(lst[0])\n",
        "  qtd = int(lst[1])\n",
        "  preco_unit = float(lst[2])\n",
        "  estoque[cod] = (qtd, preco_unit)\n",
        "  print(estoque)\n"
      ],
      "metadata": {
        "colab": {
          "base_uri": "https://localhost:8080/"
        },
        "id": "ekLkrFGJm3fy",
        "outputId": "2cb5ff34-de32-4c9a-d334-f5ece5afe3a8"
      },
      "execution_count": null,
      "outputs": [
        {
          "output_type": "stream",
          "name": "stdout",
          "text": [
            "['12720', '40', '83.95']\n",
            "{12720: (40, 83.95)}\n",
            "['12840', '108', '25.44']\n",
            "{12720: (40, 83.95), 12840: (108, 25.44)}\n",
            "['11985', '26', '67.9']\n",
            "{12720: (40, 83.95), 12840: (108, 25.44), 11985: (26, 67.9)}\n",
            "['12412', '210', '17.62']\n",
            "{12720: (40, 83.95), 12840: (108, 25.44), 11985: (26, 67.9), 12412: (210, 17.62)}\n",
            "['12650', '88', '41.17']\n",
            "{12720: (40, 83.95), 12840: (108, 25.44), 11985: (26, 67.9), 12412: (210, 17.62), 12650: (88, 41.17)}\n"
          ]
        }
      ]
    },
    {
      "cell_type": "markdown",
      "source": [
        "## Em Python, há uma necessidade de saber qual a codificação foi usada, por exemplo ANSI - ASCII (1 byte) por caracter, que limita muito a quantidade de caracteres possíveis, ou UTF8 etc, que usa 2 bytes, aumentando muito as possibilidades. Segue um programa que testa isso:"
      ],
      "metadata": {
        "id": "mkm4Bp8DJ4QJ"
      }
    },
    {
      "cell_type": "code",
      "source": [
        "codGravacao = input('Digite a codificação de gravação: ')\n",
        "codleitura = input('Digite a codificação de leitura: ')\n",
        "\n",
        "print('Etapa de gravação do Arquivo')\n",
        "arq = open('codificacao.txt', 'w', encoding = codGravacao)\n",
        "arq.write('Gravação do Arquivo\\n')\n",
        "arq.write('acentos: á, é, í, Á, É, Í, ç, Ç\\n')\n",
        "arq.close()\n",
        "\n",
        "print('Etapa de leitura do Arquivo')\n",
        "arq = open('codificacao.txt', 'r', encoding = codleitura)\n",
        "s = arq.readline()\n",
        "print(s.rstrip())\n",
        "s = arq.readline()\n",
        "print(s.rstrip())\n",
        "arq.close()\n"
      ],
      "metadata": {
        "colab": {
          "base_uri": "https://localhost:8080/",
          "height": 280
        },
        "id": "4UOASkbdtT2o",
        "outputId": "304875ea-0b52-4dea-adaf-8943c209930f"
      },
      "execution_count": null,
      "outputs": [
        {
          "output_type": "stream",
          "name": "stdout",
          "text": [
            "Digite a codificação de gravação: UTF-8\n",
            "Digite a codificação de leitura: ANSI\n",
            "Etapa de gravação do Arquivo\n",
            "Etapa de leitura do Arquivo\n"
          ]
        },
        {
          "output_type": "error",
          "ename": "LookupError",
          "evalue": "unknown encoding: ANSI",
          "traceback": [
            "\u001b[0;31m---------------------------------------------------------------------------\u001b[0m",
            "\u001b[0;31mLookupError\u001b[0m                               Traceback (most recent call last)",
            "\u001b[0;32m<ipython-input-69-26fed7b0b88d>\u001b[0m in \u001b[0;36m<cell line: 11>\u001b[0;34m()\u001b[0m\n\u001b[1;32m      9\u001b[0m \u001b[0;34m\u001b[0m\u001b[0m\n\u001b[1;32m     10\u001b[0m \u001b[0mprint\u001b[0m\u001b[0;34m(\u001b[0m\u001b[0;34m'Etapa de leitura do Arquivo'\u001b[0m\u001b[0;34m)\u001b[0m\u001b[0;34m\u001b[0m\u001b[0;34m\u001b[0m\u001b[0m\n\u001b[0;32m---> 11\u001b[0;31m \u001b[0marq\u001b[0m \u001b[0;34m=\u001b[0m \u001b[0mopen\u001b[0m\u001b[0;34m(\u001b[0m\u001b[0;34m'codificacao.txt'\u001b[0m\u001b[0;34m,\u001b[0m \u001b[0;34m'r'\u001b[0m\u001b[0;34m,\u001b[0m \u001b[0mencoding\u001b[0m \u001b[0;34m=\u001b[0m \u001b[0mcodleitura\u001b[0m\u001b[0;34m)\u001b[0m\u001b[0;34m\u001b[0m\u001b[0;34m\u001b[0m\u001b[0m\n\u001b[0m\u001b[1;32m     12\u001b[0m \u001b[0ms\u001b[0m \u001b[0;34m=\u001b[0m \u001b[0marq\u001b[0m\u001b[0;34m.\u001b[0m\u001b[0mreadline\u001b[0m\u001b[0;34m(\u001b[0m\u001b[0;34m)\u001b[0m\u001b[0;34m\u001b[0m\u001b[0;34m\u001b[0m\u001b[0m\n\u001b[1;32m     13\u001b[0m \u001b[0mprint\u001b[0m\u001b[0;34m(\u001b[0m\u001b[0ms\u001b[0m\u001b[0;34m.\u001b[0m\u001b[0mrstrip\u001b[0m\u001b[0;34m(\u001b[0m\u001b[0;34m)\u001b[0m\u001b[0;34m)\u001b[0m\u001b[0;34m\u001b[0m\u001b[0;34m\u001b[0m\u001b[0m\n",
            "\u001b[0;31mLookupError\u001b[0m: unknown encoding: ANSI"
          ]
        }
      ]
    },
    {
      "cell_type": "code",
      "source": [
        "codGravacao = input('Digite a codificação de gravação: ')\n",
        "if codGravacao.lower() == 'ansi':  # Check if the user entered 'ansi'\n",
        "    codGravacao = 'latin-1'  # Replace 'ansi' with a specific encoding\n",
        "codleitura = input('Digite a codificação de leitura: ')\n",
        "if codleitura.lower() == 'ansi':   # Check if the user entered 'ansi'\n",
        "    codleitura = 'latin-1'   # Replace 'ansi' with a specific encoding\n",
        "\n",
        "\n",
        "print('Etapa de gravação do Arquivo')\n",
        "arq = open('codificacao.txt', 'w', encoding = codGravacao)\n",
        "arq.write('Gravação do Arquivo\\n')\n",
        "arq.write('acentos: á, é, í, Á, É, Í, ç, Ç\\n')\n",
        "arq.close()\n",
        "\n",
        "print('Etapa de leitura do Arquivo')\n",
        "arq = open('codificacao.txt', 'r', encoding = codleitura)\n",
        "s = arq.readline()\n",
        "print(s.rstrip())\n",
        "s = arq.readline()\n",
        "print(s.rstrip())\n",
        "arq.close()"
      ],
      "metadata": {
        "colab": {
          "base_uri": "https://localhost:8080/"
        },
        "id": "TybmPmVUMl_d",
        "outputId": "93966dd6-1ea6-4c4c-f910-241b4437a989"
      },
      "execution_count": null,
      "outputs": [
        {
          "output_type": "stream",
          "name": "stdout",
          "text": [
            "Digite a codificação de gravação: UTF-8\n",
            "Digite a codificação de leitura: ANSI\n",
            "Etapa de gravação do Arquivo\n",
            "Etapa de leitura do Arquivo\n",
            "GravaÃ§Ã£o do Arquivo\n",
            "acentos: Ã¡, Ã©, Ã­, Ã, Ã, Ã, Ã§, Ã\n"
          ]
        }
      ]
    },
    {
      "cell_type": "markdown",
      "source": [
        "## 12.1 FUNÇÕES"
      ],
      "metadata": {
        "id": "201hWdGZST9k"
      }
    },
    {
      "cell_type": "code",
      "source": [
        "lista = [1, 2, 3, 4, 5]\n",
        "for i in lista:\n",
        "  print(i)\n",
        "  print('-----')"
      ],
      "metadata": {
        "colab": {
          "base_uri": "https://localhost:8080/"
        },
        "id": "Ec7g4lvjNj1o",
        "outputId": "297884fd-2408-4757-9572-e13cd2f48f49"
      },
      "execution_count": null,
      "outputs": [
        {
          "output_type": "stream",
          "name": "stdout",
          "text": [
            "1\n",
            "-----\n",
            "2\n",
            "-----\n",
            "3\n",
            "-----\n",
            "4\n",
            "-----\n",
            "5\n",
            "-----\n"
          ]
        }
      ]
    },
    {
      "cell_type": "code",
      "source": [
        "def Exibir_Hifens(): # função realiza uma tarefa, mas não retorna nenhum valor\n",
        "  print('-----')\n",
        "\n",
        "lista = [1, 2, 3, 4, 5]\n",
        "for i in lista:\n",
        "  print(i)\n",
        "  Exibir_Hifens()\n",
        "\n"
      ],
      "metadata": {
        "colab": {
          "base_uri": "https://localhost:8080/"
        },
        "id": "ZIJyND57TfSE",
        "outputId": "9de9457f-e255-4153-8e68-e62eb86f1277"
      },
      "execution_count": null,
      "outputs": [
        {
          "output_type": "stream",
          "name": "stdout",
          "text": [
            "1\n",
            "-----\n",
            "2\n",
            "-----\n",
            "3\n",
            "-----\n",
            "4\n",
            "-----\n",
            "5\n",
            "-----\n"
          ]
        }
      ]
    },
    {
      "cell_type": "code",
      "source": [
        "# funções com retorno de valor\n",
        "\n",
        "def Inteiro():\n",
        "  num = int(input('Digite um número inteiro: '))\n",
        "  return num\n",
        "\n",
        "# parte principal\n",
        "valor = Inteiro() # é preciso uma atribuição !!\n",
        "print(f'O valor digitado foi {valor}')"
      ],
      "metadata": {
        "colab": {
          "base_uri": "https://localhost:8080/"
        },
        "id": "WiDYI3bvU6bp",
        "outputId": "4f2c8cd5-fb1a-4331-8f17-a61bd025b4ed"
      },
      "execution_count": null,
      "outputs": [
        {
          "output_type": "stream",
          "name": "stdout",
          "text": [
            "Digite um número inteiro: 2\n",
            "O valor digitado foi 2\n"
          ]
        }
      ]
    },
    {
      "cell_type": "markdown",
      "source": [
        "- geramos uma função que pega números de UM RANGE, e cria uma lista\n",
        "\n",
        "*   Item da lista\n",
        "*   Item da lista\n",
        "\n",
        "aleatória de X números."
      ],
      "metadata": {
        "id": "aNEg7zQRXK3d"
      }
    },
    {
      "cell_type": "code",
      "source": [
        "from random import randint\n",
        "def Carrega_Lista():\n",
        "  L = []\n",
        "  for i in range(6):\n",
        "    L.append(randint(1, 60))\n",
        "  return L\n",
        "\n",
        "print('Início do programa')\n",
        "\n",
        "Valores = Carrega_Lista()\n",
        "print(f'A lista gerada é {Valores}')\n",
        "\n",
        "Valores2 = Carrega_Lista()\n",
        "print(f'A lista gerada é {Valores2}')\n",
        "\n",
        "Valores3 = Carrega_Lista()\n",
        "print(f'A lista gerada é {Valores3}')"
      ],
      "metadata": {
        "colab": {
          "base_uri": "https://localhost:8080/"
        },
        "id": "JDhbUeikWXe0",
        "outputId": "64336786-acb8-4ea3-f9d5-d2a4b4a8d104"
      },
      "execution_count": null,
      "outputs": [
        {
          "output_type": "stream",
          "name": "stdout",
          "text": [
            "Início do programa\n",
            "A lista gerada é [47, 28, 44, 43, 20, 26]\n",
            "A lista gerada é [28, 18, 55, 54, 60, 15]\n",
            "A lista gerada é [31, 10, 29, 29, 57, 27]\n"
          ]
        }
      ]
    },
    {
      "cell_type": "markdown",
      "source": [
        "# 12.5\n"
      ],
      "metadata": {
        "id": "fZZKzgY2o97-"
      }
    },
    {
      "cell_type": "code",
      "source": [
        "# aqui atribuímos o parãmetro 'qtd' dentro da função, para depois usarmos\n",
        "\n",
        "from random import randint\n",
        "def Carrega_Lista(qtd): # carrega uma lista com qtd de elementos inteiros aleatórios entre 1 e 60\n",
        "  L = []\n",
        "  for i in range(qtd):\n",
        "    L.append(randint(1, 60))\n",
        "  return L\n",
        "\n",
        "q = int(input('Digite a quantidade de números que deseja gerar: '))\n",
        "Valores = Carrega_Lista(q)\n",
        "print(f'A lista gerada é {Valores}')\n",
        "print(f'A lista gerada tem {q} elementos')"
      ],
      "metadata": {
        "id": "WTl1_1-VYTOl",
        "colab": {
          "base_uri": "https://localhost:8080/"
        },
        "outputId": "cc85219c-f579-49b6-c224-713cfdae2ce1"
      },
      "execution_count": null,
      "outputs": [
        {
          "output_type": "stream",
          "name": "stdout",
          "text": [
            "Digite a quantidade de números que deseja gerar: 25\n",
            "A lista gerada é [10, 7, 26, 5, 44, 38, 37, 52, 46, 54, 42, 56, 8, 32, 36, 10, 47, 9, 57, 1, 38, 39, 40, 50, 57]\n",
            "A lista gerada tem 25 elementos\n"
          ]
        }
      ]
    },
    {
      "cell_type": "code",
      "source": [
        "# Ex 12.6 - Colocar mais elementos nos argumentos da função\n",
        "from random import randint\n",
        "def Carrega_Lista(qtd, a, b): # carrega uma lista com qtd de elementos inteiros aleatórios sem um limite específico. No caso entre a e b\n",
        "  L = []\n",
        "  for i in range(qtd):\n",
        "    L.append(randint(a, b))\n",
        "  return L\n",
        "\n",
        "q = int(input('Digite a quantidade de números que deseja gerar: '))\n",
        "lmin = int(input('Digite o valor mínimo: '))\n",
        "lmax = int(input('Digite o valor máximo: '))\n",
        "Valores = Carrega_Lista(q, lmin, lmax)\n",
        "print(f'A lista gerada é {Valores}')\n",
        "print(f'A lista gerada tem {q} elementos')"
      ],
      "metadata": {
        "colab": {
          "base_uri": "https://localhost:8080/"
        },
        "id": "aezIUu-bcd-l",
        "outputId": "e5d2258d-6441-4253-ff8e-23863507987d"
      },
      "execution_count": null,
      "outputs": [
        {
          "output_type": "stream",
          "name": "stdout",
          "text": [
            "Digite a quantidade de números que deseja gerar: 10\n",
            "Digite o valor mínimo: 10\n",
            "Digite o valor máximo: 59\n",
            "A lista gerada é [32, 53, 35, 47, 45, 24, 15, 33, 38, 39]\n",
            "A lista gerada tem 10 elementos\n"
          ]
        }
      ]
    },
    {
      "cell_type": "code",
      "source": [
        "# 12.7 função com valor padrão\n",
        "\n",
        "def Saudacao(nome, mensagem = 'Olá'):\n",
        "  print(f'{mensagem}, {nome}')\n",
        "\n",
        "Saudacao('João', 'Bom dia') # como foi informado um argumento para 'mensagem', esse arg substituiu o 'Olá'\n",
        "Saudacao('Maria') # aqui não foi informado nada, então o Python assume a função original"
      ],
      "metadata": {
        "colab": {
          "base_uri": "https://localhost:8080/"
        },
        "id": "sxtk7dijfH6j",
        "outputId": "5d553853-a681-4648-b847-2706ef3d3384"
      },
      "execution_count": null,
      "outputs": [
        {
          "output_type": "stream",
          "name": "stdout",
          "text": [
            "Bom dia, João\n",
            "Olá, Maria\n"
          ]
        }
      ]
    },
    {
      "cell_type": "code",
      "source": [
        "# 12.8 Parãmetros nomeados\n",
        "\n",
        "def Diferenca(A, B):\n",
        "  return A - B\n",
        "\n",
        "x = 12\n",
        "y = 7\n",
        "Diferenca(x, y)\n"
      ],
      "metadata": {
        "colab": {
          "base_uri": "https://localhost:8080/"
        },
        "id": "a50mUTOch0Qn",
        "outputId": "e95da137-c8a5-4971-cd73-debef1abc8a8"
      },
      "execution_count": null,
      "outputs": [
        {
          "output_type": "execute_result",
          "data": {
            "text/plain": [
              "5"
            ]
          },
          "metadata": {},
          "execution_count": 7
        }
      ]
    },
    {
      "cell_type": "code",
      "source": [
        "Diferenca(B = y, A = x)"
      ],
      "metadata": {
        "colab": {
          "base_uri": "https://localhost:8080/"
        },
        "id": "ij8JY4rtjEC3",
        "outputId": "7d63d7c9-7d8b-4460-b46f-42cdc3d52c84"
      },
      "execution_count": null,
      "outputs": [
        {
          "output_type": "execute_result",
          "data": {
            "text/plain": [
              "5"
            ]
          },
          "metadata": {},
          "execution_count": 8
        }
      ]
    },
    {
      "cell_type": "code",
      "source": [
        "Diferenca(A = y, B = x)"
      ],
      "metadata": {
        "colab": {
          "base_uri": "https://localhost:8080/"
        },
        "id": "SInFEmJhjbE2",
        "outputId": "e4c9f58a-bb0b-4fa0-f7c1-ddf5478511e7"
      },
      "execution_count": null,
      "outputs": [
        {
          "output_type": "execute_result",
          "data": {
            "text/plain": [
              "-5"
            ]
          },
          "metadata": {},
          "execution_count": 9
        }
      ]
    },
    {
      "cell_type": "code",
      "source": [
        "# 12.9 EMPACOTAMENTO\n",
        "\n",
        "def Somatoria(*dados):\n",
        "  soma = 0\n",
        "  for i in dados:\n",
        "    soma += i\n",
        "  return soma\n",
        "\n",
        "a = Somatoria(34, 112, 33, 14, 51)\n",
        "a\n"
      ],
      "metadata": {
        "id": "P2z86nrikfJD",
        "colab": {
          "base_uri": "https://localhost:8080/"
        },
        "outputId": "f78201dd-8a2e-459d-db84-62bfa9976383"
      },
      "execution_count": null,
      "outputs": [
        {
          "output_type": "execute_result",
          "data": {
            "text/plain": [
              "244"
            ]
          },
          "metadata": {},
          "execution_count": 6
        }
      ]
    },
    {
      "cell_type": "code",
      "source": [
        "Somatoria(200, 300, 100)"
      ],
      "metadata": {
        "colab": {
          "base_uri": "https://localhost:8080/"
        },
        "id": "RwPH5NzEoIqJ",
        "outputId": "b94b77a0-c63e-4436-f2b3-4da3f7ea421b"
      },
      "execution_count": null,
      "outputs": [
        {
          "output_type": "execute_result",
          "data": {
            "text/plain": [
              "600"
            ]
          },
          "metadata": {},
          "execution_count": 8
        }
      ]
    },
    {
      "cell_type": "code",
      "source": [
        "# 12.10 Argumento de parâmetros\n",
        "\n",
        "def MontaSaida(*valores, separador = (' ,')):\n",
        "  saida = separador.join(valores)\n",
        "  return saida\n",
        "\n",
        "\n",
        "MontaSaida\n"
      ],
      "metadata": {
        "colab": {
          "base_uri": "https://localhost:8080/",
          "height": 104
        },
        "id": "MbRrHOr4os8E",
        "outputId": "b3bdc90b-f093-4b42-9e2f-248ff44378a1"
      },
      "execution_count": null,
      "outputs": [
        {
          "output_type": "execute_result",
          "data": {
            "text/plain": [
              "<function __main__.MontaSaida(*valores, separador=' ,')>"
            ],
            "text/html": [
              "<div style=\"max-width:800px; border: 1px solid var(--colab-border-color);\"><style>\n",
              "      pre.function-repr-contents {\n",
              "        overflow-x: auto;\n",
              "        padding: 8px 12px;\n",
              "        max-height: 500px;\n",
              "      }\n",
              "\n",
              "      pre.function-repr-contents.function-repr-contents-collapsed {\n",
              "        cursor: pointer;\n",
              "        max-height: 100px;\n",
              "      }\n",
              "    </style>\n",
              "    <pre style=\"white-space: initial; background:\n",
              "         var(--colab-secondary-surface-color); padding: 8px 12px;\n",
              "         border-bottom: 1px solid var(--colab-border-color);\"><b>MontaSaida</b><br/>def MontaSaida(*valores, separador=&#x27; ,&#x27;)</pre><pre class=\"function-repr-contents function-repr-contents-collapsed\" style=\"\"><a class=\"filepath\" style=\"display:none\" href=\"#\">/content/&lt;ipython-input-9-1d10ae71a3f7&gt;</a>&lt;no docstring&gt;</pre></div>"
            ]
          },
          "metadata": {},
          "execution_count": 9
        }
      ]
    },
    {
      "cell_type": "code",
      "source": [
        "# desempacotamento\n",
        "\n",
        "def Empacotamento(*dados):\n",
        "  return sum(dados)\n",
        "\n",
        "Empacotamento(1, 2, 3, 4, 5)\n",
        "\n",
        "\n",
        "def Calcula(a, b, c): # é preciso fornecer a mesma qtd de argumentos na lista ou tupla\n",
        "   return (a + b) / c\n",
        "\n",
        "L1 = [122, 12, 3]\n",
        "Calcula(*L1)\n",
        "\n"
      ],
      "metadata": {
        "colab": {
          "base_uri": "https://localhost:8080/"
        },
        "id": "zjq7qtdYq-UX",
        "outputId": "6729f72b-0e90-41d2-f6b3-daaef3b7a4ad"
      },
      "execution_count": null,
      "outputs": [
        {
          "output_type": "execute_result",
          "data": {
            "text/plain": [
              "44.666666666666664"
            ]
          },
          "metadata": {},
          "execution_count": 13
        }
      ]
    },
    {
      "cell_type": "code",
      "source": [
        "# ESCOPO GLOBAL E ESCOPO LOCAL EX  12.12"
      ],
      "metadata": {
        "id": "g6d5JdkfrQlP"
      },
      "execution_count": null,
      "outputs": []
    },
    {
      "cell_type": "code",
      "source": [
        "def funcao1():\n",
        "  print('Dentro da função 1 temos ', a, b)\n",
        "\n",
        "\n",
        "def funcao2():\n",
        "  a = 10 # esses argumentos estão locais, só dentro desta função\n",
        "  b = 20\n",
        "  print('Dentro da função 2 temos ', a, b)\n",
        "\n",
        "\n",
        "a = 1 # esses argumentos estão no programa principal, sendo GLOBAIS\n",
        "b = 2\n",
        "funcao1()\n",
        "funcao2()\n",
        "print('Fora das funções temos ', a, b)"
      ],
      "metadata": {
        "colab": {
          "base_uri": "https://localhost:8080/"
        },
        "id": "g5ys8cUTsMyS",
        "outputId": "325bd9b3-92be-451f-fffb-12101e08ed47"
      },
      "execution_count": null,
      "outputs": [
        {
          "output_type": "stream",
          "name": "stdout",
          "text": [
            "Dentro da função 1 temos  1 2\n",
            "Dentro da função 2 temos  10 20\n",
            "Fora das funções temos  1 2\n"
          ]
        }
      ]
    },
    {
      "cell_type": "code",
      "source": [
        "# 12.14\n",
        "# FUNÇÕES RECURSIVAS\n",
        "\n",
        "def fatorial(n):\n",
        "  if n <= 1:\n",
        "    return 1\n",
        "  else:\n",
        "    return n * fatorial(n - 1)\n",
        "\n",
        "ENTRADA = int(input('Digite um número inteiro: '))\n",
        "F = fatorial(ENTRADA)\n",
        "print(f'O fatorial de {ENTRADA} é {F}')\n",
        "\n"
      ],
      "metadata": {
        "colab": {
          "base_uri": "https://localhost:8080/"
        },
        "id": "A8i73sN_tePb",
        "outputId": "fa0686f0-9518-47c2-d674-6eb51472c593"
      },
      "execution_count": null,
      "outputs": [
        {
          "output_type": "stream",
          "name": "stdout",
          "text": [
            "Digite um número inteiro: 6\n",
            "O fatorial de 6 é 720\n"
          ]
        }
      ]
    },
    {
      "cell_type": "code",
      "source": [
        "# 12.16 FUNÇÕES LAMBDA\n",
        "\n",
        "def Mais2(a):\n",
        "  return a + 2\n",
        "\n",
        "Mais2(21)"
      ],
      "metadata": {
        "colab": {
          "base_uri": "https://localhost:8080/"
        },
        "id": "0r8ZD-DHv0uf",
        "outputId": "e9e935b3-a8b7-465f-ff92-1bfb398b5f4b"
      },
      "execution_count": null,
      "outputs": [
        {
          "output_type": "execute_result",
          "data": {
            "text/plain": [
              "23"
            ]
          },
          "metadata": {},
          "execution_count": 2
        }
      ]
    },
    {
      "cell_type": "code",
      "source": [
        "# agora com lambda\n",
        "\n",
        "lambda a: a + 2"
      ],
      "metadata": {
        "id": "I9yxzz-HUUKP",
        "colab": {
          "base_uri": "https://localhost:8080/"
        },
        "outputId": "99ad8395-980f-4117-81ec-52b3fab30418"
      },
      "execution_count": null,
      "outputs": [
        {
          "output_type": "execute_result",
          "data": {
            "text/plain": [
              "<function __main__.<lambda>(a)>"
            ]
          },
          "metadata": {},
          "execution_count": 3
        }
      ]
    },
    {
      "cell_type": "code",
      "source": [
        "# precisa colocar entre parênteses\n",
        "\n",
        "(lambda a: a + 2)(21)"
      ],
      "metadata": {
        "colab": {
          "base_uri": "https://localhost:8080/"
        },
        "id": "vIx5VMV_X7yv",
        "outputId": "f6456208-646d-4910-a314-5f4608a44421"
      },
      "execution_count": null,
      "outputs": [
        {
          "output_type": "execute_result",
          "data": {
            "text/plain": [
              "23"
            ]
          },
          "metadata": {},
          "execution_count": 4
        }
      ]
    },
    {
      "cell_type": "code",
      "source": [
        "(lambda x, y, z: x + y / z)(250, 350, 20)"
      ],
      "metadata": {
        "colab": {
          "base_uri": "https://localhost:8080/"
        },
        "id": "RNh79rMsYD_8",
        "outputId": "5810ca37-ebfc-41a5-deec-cd6e3799e786"
      },
      "execution_count": null,
      "outputs": [
        {
          "output_type": "execute_result",
          "data": {
            "text/plain": [
              "267.5"
            ]
          },
          "metadata": {},
          "execution_count": 5
        }
      ]
    },
    {
      "cell_type": "code",
      "source": [
        "(lambda a, b, c: (a**2 + b*2 - c)) (2, 2, 10)"
      ],
      "metadata": {
        "colab": {
          "base_uri": "https://localhost:8080/"
        },
        "id": "U4nK4cRrgJF2",
        "outputId": "8443b4f2-a259-425a-f218-0ae685194bde"
      },
      "execution_count": null,
      "outputs": [
        {
          "output_type": "execute_result",
          "data": {
            "text/plain": [
              "-2"
            ]
          },
          "metadata": {},
          "execution_count": 5
        }
      ]
    },
    {
      "cell_type": "code",
      "source": [
        "# função combinada com map e lambda\n",
        "# um novo iterável usa a função map pra iterar em uma função já existente\n",
        "\n",
        "L = [1, 2, 3, 4, 5, 6, 7, 8, 9, 10]\n",
        "def Quadrado(x):\n",
        "    return x ** 2\n",
        "\n",
        "L2 = list(map(Quadrado, L)) # map é um iterável que percorre a lista, mas não exibe o resultado sem o construtor list\n",
        "L2"
      ],
      "metadata": {
        "colab": {
          "base_uri": "https://localhost:8080/"
        },
        "id": "lAQEX0NgYnMS",
        "outputId": "094ff396-589c-4d92-a2d5-a821a772821f"
      },
      "execution_count": null,
      "outputs": [
        {
          "output_type": "execute_result",
          "data": {
            "text/plain": [
              "[1, 4, 9, 16, 25, 36, 49, 64, 81, 100]"
            ]
          },
          "metadata": {},
          "execution_count": 8
        }
      ]
    },
    {
      "cell_type": "code",
      "source": [
        "# se quiser fazer com lambda\n",
        "\n",
        "L3 = list(map(lambda x: x ** 3, L)) # combinamos a função lambda com a lista L\n",
        "L3"
      ],
      "metadata": {
        "colab": {
          "base_uri": "https://localhost:8080/"
        },
        "id": "zjDUPMt-Z0Fj",
        "outputId": "b6e8c263-1869-4734-de78-2267264a02fd"
      },
      "execution_count": null,
      "outputs": [
        {
          "output_type": "execute_result",
          "data": {
            "text/plain": [
              "[1, 8, 27, 64, 125, 216, 343, 512, 729, 1000]"
            ]
          },
          "metadata": {},
          "execution_count": 10
        }
      ]
    },
    {
      "cell_type": "code",
      "source": [
        "# Dicionários\n",
        "\n",
        "prods = {'121': 23.90, '189': 14.33, '152': 36.95, '175': 19.35}\n",
        "\n",
        "sorted(prods) # ordena as chaves"
      ],
      "metadata": {
        "colab": {
          "base_uri": "https://localhost:8080/"
        },
        "id": "jlBbDSWRaxo-",
        "outputId": "34750843-7abd-4bae-90aa-a0d37b84de1e"
      },
      "execution_count": null,
      "outputs": [
        {
          "output_type": "execute_result",
          "data": {
            "text/plain": [
              "['121', '152', '175', '189']"
            ]
          },
          "metadata": {},
          "execution_count": 11
        }
      ]
    },
    {
      "cell_type": "code",
      "source": [
        "# se eu quiser mostrar tudo e ordenar por chaves uso o items\n",
        "\n",
        "sorted(prods.items())\n",
        "\n",
        "# se imprimir isso ele mostra uma lista com tuplas dentro\n",
        "\n",
        "print((prods.items()))"
      ],
      "metadata": {
        "colab": {
          "base_uri": "https://localhost:8080/"
        },
        "id": "k23O0H5djDZJ",
        "outputId": "9862ef38-4379-4986-e627-c4ca6805bcc9"
      },
      "execution_count": null,
      "outputs": [
        {
          "output_type": "stream",
          "name": "stdout",
          "text": [
            "dict_items([('121', 23.9), ('189', 14.33), ('152', 36.95), ('175', 19.35)])\n"
          ]
        }
      ]
    },
    {
      "cell_type": "code",
      "source": [
        "# se eu quiser ordenar pelo valor é preciso usar lambda\n",
        "\n",
        "sorted(prods.items(), key = lambda x: x[1]) # o [1] é índice 1 dentro de cada tupla, no caso o valor. A chave seria o índice zero."
      ],
      "metadata": {
        "colab": {
          "base_uri": "https://localhost:8080/"
        },
        "id": "eH8bUhEZjIaa",
        "outputId": "5744fa25-6398-4c53-baed-3dd3e35613c2"
      },
      "execution_count": null,
      "outputs": [
        {
          "output_type": "execute_result",
          "data": {
            "text/plain": [
              "[('189', 14.33), ('175', 19.35), ('121', 23.9), ('152', 36.95)]"
            ]
          },
          "metadata": {},
          "execution_count": 14
        }
      ]
    },
    {
      "cell_type": "markdown",
      "source": [
        "- Escreva um programa que recebe um número inteiro como parâmtero de entrada e retorna o texto \"PAR\" ou \"ÍMPAR\". use-a em um programa principal"
      ],
      "metadata": {
        "id": "pTOLHv17kmHz"
      }
    },
    {
      "cell_type": "code",
      "source": [
        "# 12.2 Funções\n",
        "\n",
        "def Inteiro(a):\n",
        "  return 'PAR' if a % 2 == 0 else 'ÍMPAR' # usando o if inline\n",
        "\n",
        "  #if a % 2 == 0:\n",
        "  #  return 'PAR'\n",
        "  #else:\n",
        "  #  return 'ÍMPAR'\n",
        "\n",
        "# parte principal\n",
        "\n",
        "n = int(input('Digite um inteiro: '))\n",
        "print(Inteiro(n))"
      ],
      "metadata": {
        "colab": {
          "base_uri": "https://localhost:8080/"
        },
        "id": "IHNVYlaukMG2",
        "outputId": "ca6d3dc2-79c4-459b-d1e0-94f4dcfdbedd"
      },
      "execution_count": null,
      "outputs": [
        {
          "output_type": "stream",
          "name": "stdout",
          "text": [
            "Digite um inteiro: 1\n",
            "ÍMPAR\n"
          ]
        }
      ]
    },
    {
      "cell_type": "markdown",
      "source": [
        "- 12.3 - Escreva um a função que receba 2 números inteiros A e B como parâmetros de entrada e retorne true se A for divisível por B, e False se contrário.\n",
        "Escreva o programa principal pra testar a função"
      ],
      "metadata": {
        "id": "o3R47KoEodo9"
      }
    },
    {
      "cell_type": "code",
      "source": [
        "\n",
        "def Divisivel(A, B):\n",
        "  return True if A % B == 0 else False\n",
        "\n",
        "ValorA = int(input('Digite um número inteiro A: '))\n",
        "ValorB = int(input('Digite um número inteiro B: '))\n",
        "\n",
        "if Divisivel(ValorA, ValorB): # usando a função num condicional\n",
        "  print(f'{ValorA} é divisível por {ValorB}')\n",
        "else:\n",
        "  print(f'{ValorA} não é divisível por {ValorB}')\n",
        "\n"
      ],
      "metadata": {
        "colab": {
          "base_uri": "https://localhost:8080/"
        },
        "id": "j2xwfuACl2uU",
        "outputId": "fffb64a7-004c-4c08-d324-ee514c6f01a1"
      },
      "execution_count": null,
      "outputs": [
        {
          "output_type": "stream",
          "name": "stdout",
          "text": [
            "Digite um número inteiro A: 26\n",
            "Digite um número inteiro B: 7\n",
            "26 não é divisível por 7\n"
          ]
        }
      ]
    },
    {
      "cell_type": "markdown",
      "source": [
        "- Escreva uma função que receba como parãmetro de entrada um número inteiro de 5 dígitos de [10000, 99999] que represente códigos de produtos vendidos em uma loja. A função deve calcular e retornar o dígito verificador utilizando a regra de cálculo a seguir. Escreva o programa principal para testar a função.\n",
        "Regra: considere o código 31483 em que cada dígito é multiplicado por um peso começando em 2 e terminando em 6. Os valores obtidos são somados, e do total obtido calcula-se o resto de sua divisão por 7.\n",
        "\n",
        "'''dígito  3 1  4  8  3\n",
        "'''peso    2 3  4  5  6\n",
        "'''multip  6 3 16 40 18   soma-se todos = 83\n",
        "'''                       o resto de 83 / 7 = 6\n"
      ],
      "metadata": {
        "id": "Shs8OCfKG_Pp"
      }
    },
    {
      "cell_type": "code",
      "source": [
        "# 12.4 Função\n",
        "\n",
        "cod = 31483\n",
        "s = str(cod)"
      ],
      "metadata": {
        "id": "ppSRNxt8GOD8"
      },
      "execution_count": null,
      "outputs": []
    },
    {
      "cell_type": "code",
      "source": [
        "s"
      ],
      "metadata": {
        "colab": {
          "base_uri": "https://localhost:8080/",
          "height": 35
        },
        "id": "7vodowkGzL7V",
        "outputId": "0b9c582c-f8e3-4256-8008-6b29f1964c01"
      },
      "execution_count": null,
      "outputs": [
        {
          "output_type": "execute_result",
          "data": {
            "text/plain": [
              "'31483'"
            ],
            "application/vnd.google.colaboratory.intrinsic+json": {
              "type": "string"
            }
          },
          "metadata": {},
          "execution_count": 8
        }
      ]
    },
    {
      "cell_type": "code",
      "source": [
        "for i in s:\n",
        "  print(i)"
      ],
      "metadata": {
        "colab": {
          "base_uri": "https://localhost:8080/"
        },
        "id": "0gbR-XzMzMsN",
        "outputId": "71a2568d-dc5f-4328-b8e1-9f95ba331dde"
      },
      "execution_count": null,
      "outputs": [
        {
          "output_type": "stream",
          "name": "stdout",
          "text": [
            "3\n",
            "1\n",
            "4\n",
            "8\n",
            "3\n"
          ]
        }
      ]
    },
    {
      "cell_type": "code",
      "source": [
        "peso = 2\n",
        "dv = 0\n",
        "for i in s:\n",
        "  dv += peso * int(i)\n",
        "  peso += 1"
      ],
      "metadata": {
        "id": "PtmR41IizQUN"
      },
      "execution_count": null,
      "outputs": []
    },
    {
      "cell_type": "code",
      "source": [
        "dv"
      ],
      "metadata": {
        "colab": {
          "base_uri": "https://localhost:8080/"
        },
        "id": "XP9_U_LLzvjn",
        "outputId": "501022e5-3c93-4765-95a4-f1e5b6602cc6"
      },
      "execution_count": null,
      "outputs": [
        {
          "output_type": "execute_result",
          "data": {
            "text/plain": [
              "83"
            ]
          },
          "metadata": {},
          "execution_count": 15
        }
      ]
    },
    {
      "cell_type": "code",
      "source": [
        "dv % 7"
      ],
      "metadata": {
        "colab": {
          "base_uri": "https://localhost:8080/"
        },
        "id": "LRsA9o-fzxJ8",
        "outputId": "dfa6906d-f088-4496-d6fa-a75cb3300470"
      },
      "execution_count": null,
      "outputs": [
        {
          "output_type": "execute_result",
          "data": {
            "text/plain": [
              "6"
            ]
          },
          "metadata": {},
          "execution_count": 16
        }
      ]
    },
    {
      "cell_type": "code",
      "source": [
        "# agora vamos compilar num programa melhor\n",
        "\n",
        "def CalculaDV(cod):\n",
        "  s = str(cod)\n",
        "  peso = 2\n",
        "  dv = 0\n",
        "  for i in s:\n",
        "    dv += peso * int(i)\n",
        "    peso += 1\n",
        "  return dv % 7\n",
        "\n",
        "codigo = int(input('Digite o código do produto: '))\n",
        "while codigo > 0:\n",
        "  print(f'O DV do código {codigo} é {CalculaDV(codigo)}')\n",
        "  codigo = int(input('Digite o código do produto: '))\n",
        "print('Fim do programa')"
      ],
      "metadata": {
        "colab": {
          "base_uri": "https://localhost:8080/"
        },
        "id": "li6pt2JJ0lzL",
        "outputId": "8d0d1fe1-f46c-4865-a53b-7733d70379da"
      },
      "execution_count": null,
      "outputs": [
        {
          "output_type": "stream",
          "name": "stdout",
          "text": [
            "Digite o código do produto: 128\n",
            "O DV do código 128 é 5\n",
            "Digite o código do produto: 225\n",
            "O DV do código 225 é 2\n",
            "Digite o código do produto: 13\n",
            "O DV do código 13 é 4\n",
            "Digite o código do produto: 1253\n",
            "O DV do código 1253 é 1\n",
            "Digite o código do produto: 0\n",
            "Fim do programa\n"
          ]
        }
      ]
    },
    {
      "cell_type": "markdown",
      "source": [
        "- escreva um programa que receba com o parâmetro dois números reais MIN e MAX. essa função deve ler do teclado um número real e retorná-lo caso esteja dentro do intervalo fechado [MIN - MAX]. caso contrário a função deve exibir uma mensagem de erro e ler um novo valor."
      ],
      "metadata": {
        "id": "FnKt0_BV22ah"
      }
    },
    {
      "cell_type": "code",
      "source": [
        "def LerReal(Lmin, Lmax):\n",
        "  num = float(input('Digite um número real: '))\n",
        "  while num < Lmin or num > Lmax:\n",
        "    print(f'Valor {num} está fora dos limites mínimo {Lmin} e máximo {Lmax}')\n",
        "    num = float(input('Digite um número real: '))\n",
        "  return num\n",
        "\n",
        "Lmin = float(input('Digite o valor mínimo: '))\n",
        "Lmax = float(input('Digite o valor máximo: '))\n",
        "controle = 's'\n",
        "while controle == 's' or controle == 'S':\n",
        "  valor = LerReal(Lmin, Lmax)\n",
        "  print(f'O valor lido foi {valor}')\n",
        "  controle = input('Deseja continuar? [S/N] ')\n",
        "print('Fim do programa')"
      ],
      "metadata": {
        "colab": {
          "base_uri": "https://localhost:8080/"
        },
        "id": "eL4dJd0y1CgR",
        "outputId": "29c461ed-da64-49ef-a934-17bc062dbf6d"
      },
      "execution_count": null,
      "outputs": [
        {
          "output_type": "stream",
          "name": "stdout",
          "text": [
            "Digite o valor mínimo: 50\n",
            "Digite o valor máximo: 500\n",
            "Digite um número real: 250\n",
            "O valor lido foi 250.0\n",
            "Deseja continuar? [S/N] s\n",
            "Digite um número real: 750\n",
            "Valor 750.0 está fora dos limites mínimo 50.0 e máximo 500.0\n",
            "Digite um número real: 2\n",
            "Valor 2.0 está fora dos limites mínimo 50.0 e máximo 500.0\n",
            "Digite um número real: 77\n",
            "O valor lido foi 77.0\n",
            "Deseja continuar? [S/N] n\n",
            "Fim do programa\n"
          ]
        }
      ]
    },
    {
      "cell_type": "markdown",
      "source": [
        "'''Escreva um programa que leia 4 notas de um aluno, calcule a média e mostre a situação do aluno que será APROVADO ou REPROVADO.\n",
        "O programa deve ler as 4 notas separadas por um espaço em branco em uma mesma linha de digitação. As notas lidas devem ser separadas, convertidas para número real e inseridas em uma lista, junto com a média e a situação do aluno. Isso tudo deverá ser feito dentro de uma função. Média para aprovação é >=7.\n",
        "A ordem das notas deve ser P1 P2 P3 NT\n",
        "Escreva o programa princvipal para testar sua função. A saída deve mostrar todas as notas, a média e a situação.\n",
        "Calculo da média MF = 0.3*P1 + 0.3*P2 + 0.3*P3 + 0.1*NT'''\n"
      ],
      "metadata": {
        "id": "D8ojeI4I_Mf5"
      }
    },
    {
      "cell_type": "code",
      "source": [
        "def CalculaMedia(pNotas):\n",
        "  pNotas = pNotas.split()\n",
        "  for i in range(len(pNotas)):\n",
        "    pNotas[i] = float(pNotas[i])\n",
        "  mf = (pNotas[0] + pNotas[1] + pNotas[2] * 0.3) + 0.1 * pNotas[3]\n",
        "  situacao = 'APROVADO' if mf >= 7 else 'REPROVADO'\n",
        "  pNotas.append(mf)\n",
        "  pNotas.append(situacao)\n",
        "  return pNotas\n",
        "\n",
        "notas = input('Digite as 4 notas do aluno: ')\n",
        "resultado = CalculaMedia(notas)\n",
        "print(f'P1 = {resultado[0]:.1f}; ', end='')\n",
        "print(f'P2 = {resultado[1]:.1f}; ', end='')\n",
        "print(f'P3 = {resultado[2]:.1f}; ', end='')\n",
        "print(f'NT = {resultado[3]:.1f}; ', end='')\n",
        "print(f'MF = {resultado[4]:.1f}; ', end='')\n",
        "print(f'Situação = {resultado[5]}')\n"
      ],
      "metadata": {
        "colab": {
          "base_uri": "https://localhost:8080/"
        },
        "id": "I0gEfzgp1M8-",
        "outputId": "9f379859-d47d-4140-9473-7acbfb38ab2a"
      },
      "execution_count": null,
      "outputs": [
        {
          "output_type": "stream",
          "name": "stdout",
          "text": [
            "Digite as 4 notas do aluno: 2.0 3.4 5.2 6.4\n",
            "P1 = 2.0; P2 = 3.4; P3 = 5.2; NT = 6.4; MF = 7.6; Situação = APROVADO\n"
          ]
        }
      ]
    },
    {
      "cell_type": "markdown",
      "source": [
        "- escreve um programa que verifique se um número inteirop lido é primo. Lembrando: número primo é aquele divisível somente por 1 e por ele mesmo. A verificação do primo deve ser feita dentro de uma função"
      ],
      "metadata": {
        "id": "EiGESmTDaQch"
      }
    },
    {
      "cell_type": "code",
      "source": [
        "def Primo(V):\n",
        "  '''se V for primo retorna True, senão retorna False'''\n",
        "  if V == 2:\n",
        "    return True\n",
        "  elif V % 2 == 0:\n",
        "    return False\n",
        "  else:\n",
        "    raiz = pow(V, 0.5)\n",
        "    i = 3\n",
        "    while i <= raiz:\n",
        "      if V % i == 0:\n",
        "        return False\n",
        "      i += 2\n",
        "    return True\n",
        "\n",
        "valor = int(input('Digite um número inteiro: '))\n",
        "if Primo(valor):\n",
        "  print(f'{valor} é primo')\n",
        "else:\n",
        "  print(f'{valor} não é primo')\n"
      ],
      "metadata": {
        "colab": {
          "base_uri": "https://localhost:8080/"
        },
        "id": "w4-ORWSnTNd2",
        "outputId": "13bab11b-a74e-4dc2-8d07-a144abec108b"
      },
      "execution_count": null,
      "outputs": [
        {
          "output_type": "stream",
          "name": "stdout",
          "text": [
            "Digite um número inteiro: 25\n",
            "25 não é primo\n"
          ]
        }
      ]
    },
    {
      "cell_type": "markdown",
      "source": [
        "## FUNÇÃO RECURSIVA - CONTAGEM REGRESSIVA\n",
        "\n",
        "- escreva um programa que utilize função recursiva para realizar uma contagem regressiva. Deve ler do teclado um inteiro que represente a quantidade de toques da contagem. Quando a contagem chegar no zero de ve exibir a mensagem: \"NO AR !\"."
      ],
      "metadata": {
        "id": "TRYrCak2fFzR"
      }
    },
    {
      "cell_type": "code",
      "source": [
        "from time import sleep\n",
        "\n",
        "def Contagem(cont):\n",
        "  if cont == 0:\n",
        "    print('NO AR !')\n",
        "  else:\n",
        "    print(cont)\n",
        "    sleep(1)\n",
        "    Contagem(cont - 1)\n",
        "\n",
        "toques = int(input('Digite a quantidade de toques da contagem: '))\n",
        "print(f'Atencão para o toque de {toques} segundos')\n",
        "Contagem(toques)\n",
        "\n"
      ],
      "metadata": {
        "colab": {
          "base_uri": "https://localhost:8080/"
        },
        "id": "w9Vcx1A4eH8o",
        "outputId": "085a34b1-d9c6-4878-8895-a92e682ae569"
      },
      "execution_count": null,
      "outputs": [
        {
          "output_type": "stream",
          "name": "stdout",
          "text": [
            "Digite a quantidade de toques da contagem: 3\n",
            "Atencão para o toque de 3 segundos\n",
            "3\n",
            "2\n",
            "1\n",
            "NO AR !\n"
          ]
        }
      ]
    },
    {
      "cell_type": "markdown",
      "source": [
        "- escreva uma função recursiva para calcular os termos de uma PA definida pelos parâmetros Prim, razao e Qtde, que devem ser lidos do teclado. teste com os casos a seguir:\n",
        "-Prim = 7; razao 4; Qtde 7 -> Soma 133\n",
        "-Prim = 12; razao 8; Qtde 15 -> Soma 1020\n",
        "-Prim = 2; razao 3; Qtde 6 -> Soma 57\n",
        "\n",
        "  "
      ],
      "metadata": {
        "id": "UBZXNhODrzWC"
      }
    },
    {
      "cell_type": "code",
      "source": [
        "def soma(P, R, Q):\n",
        "  if Q > 0:\n",
        "    return P + soma(P+R, R, Q-1)\n",
        "  else:\n",
        "    return 0\n",
        "\n",
        "Prim = int(input('Digite o primeiro termo da PA: '))\n",
        "razao = int(input('Digite a razão da PA: '))\n",
        "Qtde = int(input('Digite a quantidade de termos da PA: '))\n",
        "resultado = soma(Prim, razao, Qtde)\n",
        "print(f'Para Prim = {Prim}, razao = {razao} e Qtde = {Qtde}, a soma é {resultado}')"
      ],
      "metadata": {
        "colab": {
          "base_uri": "https://localhost:8080/"
        },
        "id": "ShPObvzdgVC1",
        "outputId": "2b68e8a3-ad5d-4cae-ef54-c0f602db2940"
      },
      "execution_count": null,
      "outputs": [
        {
          "output_type": "stream",
          "name": "stdout",
          "text": [
            "Digite o primeiro termo da PA: 2\n",
            "Digite a razão da PA: 3\n",
            "Digite a quantidade de termos da PA: 6\n",
            "Para Prim = 2, razao = 3 e Qtde = 6, a soma é 57\n"
          ]
        }
      ]
    },
    {
      "cell_type": "markdown",
      "source": [
        "# FUNÇÃO RECURSIVA DE BUSCA BINÁRIA"
      ],
      "metadata": {
        "id": "OMTcoQ-Ru8Gz"
      }
    },
    {
      "cell_type": "code",
      "source": [
        "def Buscabin(valor, lista, inicio, fim):\n",
        "  print(f'Buscando {valor} entre {lista[inicio]} e {lista[fim]}')\n",
        "  if inicio > fim:\n",
        "    return False\n",
        "  meio = (inicio + fim) // 2\n",
        "  print(f'Meio = {meio}')\n",
        "  if valor == lista[meio]:\n",
        "    return True\n",
        "  elif valor < lista[meio]:\n",
        "    return Buscabin(valor, lista, inicio, meio - 1)\n",
        "  else:\n",
        "    return Buscabin(valor, lista, meio + 1, fim)\n",
        "\n",
        "\n",
        "L = [14, 17, 20, 22, 23, 25, 28, 29, 31, 35, 40, 45, 50, 53, 56, 59, 62, 65]\n",
        "x = int(input('Digite o valor que deseja buscar: '))\n",
        "while x != 0:\n",
        "  Achou = Buscabin(x, L, 0, len(L) - 1)\n",
        "  if Achou != 0:\n",
        "    print(f'O valor {x} está na lista')\n",
        "  else:\n",
        "    print(f'O valor {x} não está na lista')\n",
        "  x = int(input('Digite o valor que deseja buscar: '))\n",
        "print('Fim do programa')\n"
      ],
      "metadata": {
        "colab": {
          "base_uri": "https://localhost:8080/"
        },
        "id": "BDMG0OgpuasG",
        "outputId": "2223b5f8-a97d-46b3-eb06-36d9c419d110"
      },
      "execution_count": null,
      "outputs": [
        {
          "output_type": "stream",
          "name": "stdout",
          "text": [
            "Buscando 21 entre 14 e 65\n",
            "Meio = 8\n",
            "Buscando 21 entre 14 e 29\n",
            "Meio = 3\n",
            "Buscando 21 entre 14 e 20\n",
            "Meio = 1\n",
            "Buscando 21 entre 20 e 20\n",
            "Meio = 2\n",
            "Buscando 21 entre 22 e 20\n",
            "O valor 21 não está na lista\n",
            "Digite o valor que deseja buscar: 0\n",
            "Fim do programa\n"
          ]
        }
      ]
    },
    {
      "cell_type": "markdown",
      "source": [
        "# LIST COMPREHENSION"
      ],
      "metadata": {
        "id": "q1o8eG2d582o"
      }
    },
    {
      "cell_type": "code",
      "source": [
        "L = [10, 48, -15, 25, 77, 896]\n",
        "\n",
        "lista =[]\n",
        "for i in L:\n",
        "  lista.append(i ** 2)\n",
        "\n",
        "lista"
      ],
      "metadata": {
        "colab": {
          "base_uri": "https://localhost:8080/"
        },
        "id": "VI6qD2XA1Ldz",
        "outputId": "46dc60e2-6076-43d4-82e5-75a7227059e7"
      },
      "execution_count": null,
      "outputs": [
        {
          "output_type": "execute_result",
          "data": {
            "text/plain": [
              "[100, 2304, 225, 625, 5929, 802816]"
            ]
          },
          "metadata": {},
          "execution_count": 58
        }
      ]
    },
    {
      "cell_type": "code",
      "source": [
        "# agora com LIST COMPREHENSION\n",
        "\n",
        "lista2 = [i ** 2 for i in L]\n",
        "lista2"
      ],
      "metadata": {
        "colab": {
          "base_uri": "https://localhost:8080/"
        },
        "id": "v6eLCbJy6Ycw",
        "outputId": "db45a083-4337-4d12-ca8c-c1a53f5d14c0"
      },
      "execution_count": null,
      "outputs": [
        {
          "output_type": "execute_result",
          "data": {
            "text/plain": [
              "[100, 2304, 225, 625, 5929, 802816]"
            ]
          },
          "metadata": {},
          "execution_count": 59
        }
      ]
    },
    {
      "cell_type": "code",
      "source": [
        "# dá pra incluir um if ainda\n",
        "\n",
        "lista3 = [i ** 2 for i in L if i % 2 == 0] # só os pares\n",
        "lista3"
      ],
      "metadata": {
        "colab": {
          "base_uri": "https://localhost:8080/"
        },
        "id": "ZtRQIgHm6nKH",
        "outputId": "403a3935-4474-48ca-a52a-fa60524df8cc"
      },
      "execution_count": null,
      "outputs": [
        {
          "output_type": "execute_result",
          "data": {
            "text/plain": [
              "[100, 2304, 802816]"
            ]
          },
          "metadata": {},
          "execution_count": 60
        }
      ]
    },
    {
      "cell_type": "markdown",
      "source": [
        "- Considere que vc deve aplicar um aumento percentual a todos os preços que estão em uma lista. Escreva um programa que leia essa lista do teclado. os valores devem ser lidos enquanto não for digitado zero. Na sequência leia a porcentagem de aumento. Em seguida usando List Comprehension, faça a aplicação desse aumento a todos os valores e mostre na tela."
      ],
      "metadata": {
        "id": "Kw-E94167glj"
      }
    },
    {
      "cell_type": "code",
      "source": [
        "Precos = []\n",
        "print('Digite os preços. Digite 0 para sair')\n",
        "preco = float(input('Digite o preço: '))\n",
        "while preco != 0:\n",
        "  Precos.append(preco)\n",
        "  preco = float(input('Digite o preço: '))\n",
        "print('Os preços são estes: ')\n",
        "print(Precos)\n",
        "porcentagem = float(input('Digite a porcentagem de aumento: '))\n",
        "NovosPrecos = [preco * (1 + porcentagem / 100) for preco in Precos if preco < 100]\n",
        "for preco in NovosPrecos:\n",
        "  print(f'O novo preço com o aumento de {porcentagem} % é de {preco:.2f}')\n",
        "print('Fim do programa')"
      ],
      "metadata": {
        "colab": {
          "base_uri": "https://localhost:8080/"
        },
        "id": "xVJdfFPB7Irw",
        "outputId": "e0d63769-dfb4-4102-ed86-c89a1bd44373"
      },
      "execution_count": null,
      "outputs": [
        {
          "output_type": "stream",
          "name": "stdout",
          "text": [
            "Digite os preços. Digite 0 para sair\n",
            "Digite o preço: 80\n",
            "Digite o preço: 250\n",
            "Digite o preço: 0\n",
            "Os preços são estes: \n",
            "[80.0, 250.0]\n",
            "Digite a porcentagem de aumento: 10\n",
            "O novo preço com o aumento de 10.0 % é de 88.00\n",
            "Fim do programa\n"
          ]
        }
      ]
    },
    {
      "cell_type": "markdown",
      "source": [
        "- escreva um programa que converta uma lista de temperaturas registradas na escala fahrenheit para graus na escala celsius. exiba os valores resultantes com uma casa decimal.\n",
        "A conversão é feita com a seguinte fórmula:\n",
        "Celsius = (Fahrenheit - 32) * 5/9\n"
      ],
      "metadata": {
        "id": "T8UTElBkARdv"
      }
    },
    {
      "cell_type": "code",
      "source": [
        "TempF = [48, 252, 173, 80, -2, 22]\n",
        "R = [(lambda fahr: (fahr-32)*5/9) (x) for x in TempF]\n",
        "for i in range(len(TempF)):\n",
        "  print(f'A temperatura de {TempF[i]}F é {R[i]:.1f}C')"
      ],
      "metadata": {
        "colab": {
          "base_uri": "https://localhost:8080/"
        },
        "id": "Jiow-Udo8tTu",
        "outputId": "e1324ee4-2d6d-4855-9b20-ffd76f46accc"
      },
      "execution_count": null,
      "outputs": [
        {
          "output_type": "stream",
          "name": "stdout",
          "text": [
            "A temperatura de 48F é 8.9C\n",
            "A temperatura de 252F é 122.2C\n",
            "A temperatura de 173F é 78.3C\n",
            "A temperatura de 80F é 26.7C\n",
            "A temperatura de -2F é -18.9C\n",
            "A temperatura de 22F é -5.6C\n"
          ]
        }
      ]
    },
    {
      "cell_type": "code",
      "source": [
        "C = [ 4, -71, 2, 5, -53, -79, 2 ]\n",
        "D = [ n for n in C if n > 0 ]\n",
        "print(sum(D))"
      ],
      "metadata": {
        "colab": {
          "base_uri": "https://localhost:8080/"
        },
        "id": "M7zr7oaTBJbV",
        "outputId": "cb8348ea-7c38-4907-980c-d8f922b0d302"
      },
      "execution_count": null,
      "outputs": [
        {
          "output_type": "stream",
          "name": "stdout",
          "text": [
            "13\n"
          ]
        }
      ]
    },
    {
      "cell_type": "code",
      "source": [],
      "metadata": {
        "id": "nsmom5v0CYfE"
      },
      "execution_count": null,
      "outputs": []
    }
  ]
}